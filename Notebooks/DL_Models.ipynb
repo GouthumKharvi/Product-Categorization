{
  "nbformat": 4,
  "nbformat_minor": 0,
  "metadata": {
    "accelerator": "GPU",
    "colab": {
      "provenance": []
    },
    "kernelspec": {
      "display_name": "Python 3",
      "name": "python3"
    },
    "language_info": {
      "name": "python"
    }
  },
  "cells": [
    {
      "cell_type": "markdown",
      "metadata": {
        "id": "4OcioQr0Y76f"
      },
      "source": [
        "# **Deep Learning Models for Product Categorization**\n",
        "\n",
        "In this notebook, several famous Deep Learning models (like LSTM and some other transformer based models) are trained on the balanced dataset (the one balanced using undersampling technique). These models are then then evaluated with the help of Classification Report, Confusion Matrix, Accuracy Score, etc. All the Deep Learning models are implemented using the **PyTorch** framework owing to its fast computational power.\n",
        "\n",
        "\n",
        "### ***Deep Learning Models Used for training and testing:***\n",
        "1. Tranformer based models like:\n",
        "* BERT\n",
        "* RoBERTa\n",
        "* DistilBERT\n",
        "* XLNet\n",
        "2. LSTM\n",
        "\n",
        "\n",
        "\n",
        "\n",
        "\n"
      ]
    },
    {
      "cell_type": "markdown",
      "metadata": {
        "id": "7Or9I16zabtr"
      },
      "source": [
        "## **Installing and Importing the required libraries and reasing the Dataset**\n",
        "\n",
        "Several libraries related to Pytorch and needed for transformer based models are first installed. Other libraries related to Dataframe handling, preparation of the dataset for testing and training, etc are imported. The dataset that was balanced using Undersampling technique in the [first notebook](https://colab.research.google.com/drive/1Ht6pbVFlkudK7PzrDPmepiytHxPyhVBe?usp=sharing) has been used for both testing and training. This dataset consists of only those products which belong to the 13 major categories as described earlier (the data points that correspond to noise have been already removed). This dataset has already been cleaned using the data preprocessing tecniques like stopword removal, tokenization and lemmatization."
      ]
    },
    {
      "cell_type": "code",
      "metadata": {
        "colab": {
          "base_uri": "https://localhost:8080/"
        },
        "id": "zvShb_A6Y9_D",
        "outputId": "6e642eda-4ab5-4ac0-dc51-705ef580e099"
      },
      "source": [
        "!pip install torch==1.7.1\n",
        "!pip install transformers\n",
        "!pip install simpletransformers\n",
        "!pip install tensorboardx\n",
        "!pip install pytorch-nlp"
      ],
      "execution_count": null,
      "outputs": [
        {
          "output_type": "stream",
          "name": "stdout",
          "text": [
            "\u001b[31mERROR: Could not find a version that satisfies the requirement torch==1.7.1 (from versions: 1.11.0, 1.12.0, 1.12.1, 1.13.0, 1.13.1, 2.0.0, 2.0.1, 2.1.0, 2.1.1, 2.1.2, 2.2.0, 2.2.1, 2.2.2, 2.3.0, 2.3.1, 2.4.0)\u001b[0m\u001b[31m\n",
            "\u001b[0m\u001b[31mERROR: No matching distribution found for torch==1.7.1\u001b[0m\u001b[31m\n",
            "\u001b[0mRequirement already satisfied: transformers in /usr/local/lib/python3.10/dist-packages (4.42.4)\n",
            "Requirement already satisfied: filelock in /usr/local/lib/python3.10/dist-packages (from transformers) (3.15.4)\n",
            "Requirement already satisfied: huggingface-hub<1.0,>=0.23.2 in /usr/local/lib/python3.10/dist-packages (from transformers) (0.23.5)\n",
            "Requirement already satisfied: numpy<2.0,>=1.17 in /usr/local/lib/python3.10/dist-packages (from transformers) (1.26.4)\n",
            "Requirement already satisfied: packaging>=20.0 in /usr/local/lib/python3.10/dist-packages (from transformers) (24.1)\n",
            "Requirement already satisfied: pyyaml>=5.1 in /usr/local/lib/python3.10/dist-packages (from transformers) (6.0.1)\n",
            "Requirement already satisfied: regex!=2019.12.17 in /usr/local/lib/python3.10/dist-packages (from transformers) (2024.5.15)\n",
            "Requirement already satisfied: requests in /usr/local/lib/python3.10/dist-packages (from transformers) (2.32.3)\n",
            "Requirement already satisfied: safetensors>=0.4.1 in /usr/local/lib/python3.10/dist-packages (from transformers) (0.4.3)\n",
            "Requirement already satisfied: tokenizers<0.20,>=0.19 in /usr/local/lib/python3.10/dist-packages (from transformers) (0.19.1)\n",
            "Requirement already satisfied: tqdm>=4.27 in /usr/local/lib/python3.10/dist-packages (from transformers) (4.66.4)\n",
            "Requirement already satisfied: fsspec>=2023.5.0 in /usr/local/lib/python3.10/dist-packages (from huggingface-hub<1.0,>=0.23.2->transformers) (2024.5.0)\n",
            "Requirement already satisfied: typing-extensions>=3.7.4.3 in /usr/local/lib/python3.10/dist-packages (from huggingface-hub<1.0,>=0.23.2->transformers) (4.12.2)\n",
            "Requirement already satisfied: charset-normalizer<4,>=2 in /usr/local/lib/python3.10/dist-packages (from requests->transformers) (3.3.2)\n",
            "Requirement already satisfied: idna<4,>=2.5 in /usr/local/lib/python3.10/dist-packages (from requests->transformers) (3.7)\n",
            "Requirement already satisfied: urllib3<3,>=1.21.1 in /usr/local/lib/python3.10/dist-packages (from requests->transformers) (2.0.7)\n",
            "Requirement already satisfied: certifi>=2017.4.17 in /usr/local/lib/python3.10/dist-packages (from requests->transformers) (2024.7.4)\n",
            "Requirement already satisfied: simpletransformers in /usr/local/lib/python3.10/dist-packages (0.70.1)\n",
            "Requirement already satisfied: numpy in /usr/local/lib/python3.10/dist-packages (from simpletransformers) (1.26.4)\n",
            "Requirement already satisfied: requests in /usr/local/lib/python3.10/dist-packages (from simpletransformers) (2.32.3)\n",
            "Requirement already satisfied: tqdm>=4.47.0 in /usr/local/lib/python3.10/dist-packages (from simpletransformers) (4.66.4)\n",
            "Requirement already satisfied: regex in /usr/local/lib/python3.10/dist-packages (from simpletransformers) (2024.5.15)\n",
            "Requirement already satisfied: transformers>=4.31.0 in /usr/local/lib/python3.10/dist-packages (from simpletransformers) (4.42.4)\n",
            "Requirement already satisfied: datasets in /usr/local/lib/python3.10/dist-packages (from simpletransformers) (2.20.0)\n",
            "Requirement already satisfied: scipy in /usr/local/lib/python3.10/dist-packages (from simpletransformers) (1.13.1)\n",
            "Requirement already satisfied: scikit-learn in /usr/local/lib/python3.10/dist-packages (from simpletransformers) (1.3.2)\n",
            "Requirement already satisfied: seqeval in /usr/local/lib/python3.10/dist-packages (from simpletransformers) (1.2.2)\n",
            "Requirement already satisfied: tensorboard in /usr/local/lib/python3.10/dist-packages (from simpletransformers) (2.17.0)\n",
            "Requirement already satisfied: tensorboardx in /usr/local/lib/python3.10/dist-packages (from simpletransformers) (2.6.2.2)\n",
            "Requirement already satisfied: pandas in /usr/local/lib/python3.10/dist-packages (from simpletransformers) (2.1.4)\n",
            "Requirement already satisfied: tokenizers in /usr/local/lib/python3.10/dist-packages (from simpletransformers) (0.19.1)\n",
            "Requirement already satisfied: wandb>=0.10.32 in /usr/local/lib/python3.10/dist-packages (from simpletransformers) (0.17.5)\n",
            "Requirement already satisfied: streamlit in /usr/local/lib/python3.10/dist-packages (from simpletransformers) (1.37.0)\n",
            "Requirement already satisfied: sentencepiece in /usr/local/lib/python3.10/dist-packages (from simpletransformers) (0.1.99)\n",
            "Requirement already satisfied: filelock in /usr/local/lib/python3.10/dist-packages (from transformers>=4.31.0->simpletransformers) (3.15.4)\n",
            "Requirement already satisfied: huggingface-hub<1.0,>=0.23.2 in /usr/local/lib/python3.10/dist-packages (from transformers>=4.31.0->simpletransformers) (0.23.5)\n",
            "Requirement already satisfied: packaging>=20.0 in /usr/local/lib/python3.10/dist-packages (from transformers>=4.31.0->simpletransformers) (24.1)\n",
            "Requirement already satisfied: pyyaml>=5.1 in /usr/local/lib/python3.10/dist-packages (from transformers>=4.31.0->simpletransformers) (6.0.1)\n",
            "Requirement already satisfied: safetensors>=0.4.1 in /usr/local/lib/python3.10/dist-packages (from transformers>=4.31.0->simpletransformers) (0.4.3)\n",
            "Requirement already satisfied: click!=8.0.0,>=7.1 in /usr/local/lib/python3.10/dist-packages (from wandb>=0.10.32->simpletransformers) (8.1.7)\n",
            "Requirement already satisfied: docker-pycreds>=0.4.0 in /usr/local/lib/python3.10/dist-packages (from wandb>=0.10.32->simpletransformers) (0.4.0)\n",
            "Requirement already satisfied: gitpython!=3.1.29,>=1.0.0 in /usr/local/lib/python3.10/dist-packages (from wandb>=0.10.32->simpletransformers) (3.1.43)\n",
            "Requirement already satisfied: platformdirs in /usr/local/lib/python3.10/dist-packages (from wandb>=0.10.32->simpletransformers) (4.2.2)\n",
            "Requirement already satisfied: protobuf!=4.21.0,<6,>=3.19.0 in /usr/local/lib/python3.10/dist-packages (from wandb>=0.10.32->simpletransformers) (3.20.3)\n",
            "Requirement already satisfied: psutil>=5.0.0 in /usr/local/lib/python3.10/dist-packages (from wandb>=0.10.32->simpletransformers) (5.9.5)\n",
            "Requirement already satisfied: sentry-sdk>=1.0.0 in /usr/local/lib/python3.10/dist-packages (from wandb>=0.10.32->simpletransformers) (2.12.0)\n",
            "Requirement already satisfied: setproctitle in /usr/local/lib/python3.10/dist-packages (from wandb>=0.10.32->simpletransformers) (1.3.3)\n",
            "Requirement already satisfied: setuptools in /usr/local/lib/python3.10/dist-packages (from wandb>=0.10.32->simpletransformers) (71.0.4)\n",
            "Requirement already satisfied: charset-normalizer<4,>=2 in /usr/local/lib/python3.10/dist-packages (from requests->simpletransformers) (3.3.2)\n",
            "Requirement already satisfied: idna<4,>=2.5 in /usr/local/lib/python3.10/dist-packages (from requests->simpletransformers) (3.7)\n",
            "Requirement already satisfied: urllib3<3,>=1.21.1 in /usr/local/lib/python3.10/dist-packages (from requests->simpletransformers) (2.0.7)\n",
            "Requirement already satisfied: certifi>=2017.4.17 in /usr/local/lib/python3.10/dist-packages (from requests->simpletransformers) (2024.7.4)\n",
            "Requirement already satisfied: pyarrow>=15.0.0 in /usr/local/lib/python3.10/dist-packages (from datasets->simpletransformers) (17.0.0)\n",
            "Requirement already satisfied: pyarrow-hotfix in /usr/local/lib/python3.10/dist-packages (from datasets->simpletransformers) (0.6)\n",
            "Requirement already satisfied: dill<0.3.9,>=0.3.0 in /usr/local/lib/python3.10/dist-packages (from datasets->simpletransformers) (0.3.8)\n",
            "Requirement already satisfied: xxhash in /usr/local/lib/python3.10/dist-packages (from datasets->simpletransformers) (3.4.1)\n",
            "Requirement already satisfied: multiprocess in /usr/local/lib/python3.10/dist-packages (from datasets->simpletransformers) (0.70.16)\n",
            "Requirement already satisfied: fsspec<=2024.5.0,>=2023.1.0 in /usr/local/lib/python3.10/dist-packages (from fsspec[http]<=2024.5.0,>=2023.1.0->datasets->simpletransformers) (2024.5.0)\n",
            "Requirement already satisfied: aiohttp in /usr/local/lib/python3.10/dist-packages (from datasets->simpletransformers) (3.9.5)\n",
            "Requirement already satisfied: python-dateutil>=2.8.2 in /usr/local/lib/python3.10/dist-packages (from pandas->simpletransformers) (2.8.2)\n",
            "Requirement already satisfied: pytz>=2020.1 in /usr/local/lib/python3.10/dist-packages (from pandas->simpletransformers) (2024.1)\n",
            "Requirement already satisfied: tzdata>=2022.1 in /usr/local/lib/python3.10/dist-packages (from pandas->simpletransformers) (2024.1)\n",
            "Requirement already satisfied: joblib>=1.1.1 in /usr/local/lib/python3.10/dist-packages (from scikit-learn->simpletransformers) (1.4.2)\n",
            "Requirement already satisfied: threadpoolctl>=2.0.0 in /usr/local/lib/python3.10/dist-packages (from scikit-learn->simpletransformers) (3.5.0)\n",
            "Requirement already satisfied: altair<6,>=4.0 in /usr/local/lib/python3.10/dist-packages (from streamlit->simpletransformers) (4.2.2)\n",
            "Requirement already satisfied: blinker<2,>=1.0.0 in /usr/lib/python3/dist-packages (from streamlit->simpletransformers) (1.4)\n",
            "Requirement already satisfied: cachetools<6,>=4.0 in /usr/local/lib/python3.10/dist-packages (from streamlit->simpletransformers) (5.4.0)\n",
            "Requirement already satisfied: pillow<11,>=7.1.0 in /usr/local/lib/python3.10/dist-packages (from streamlit->simpletransformers) (9.4.0)\n",
            "Requirement already satisfied: rich<14,>=10.14.0 in /usr/local/lib/python3.10/dist-packages (from streamlit->simpletransformers) (13.7.1)\n",
            "Requirement already satisfied: tenacity<9,>=8.1.0 in /usr/local/lib/python3.10/dist-packages (from streamlit->simpletransformers) (8.5.0)\n",
            "Requirement already satisfied: toml<2,>=0.10.1 in /usr/local/lib/python3.10/dist-packages (from streamlit->simpletransformers) (0.10.2)\n",
            "Requirement already satisfied: typing-extensions<5,>=4.3.0 in /usr/local/lib/python3.10/dist-packages (from streamlit->simpletransformers) (4.12.2)\n",
            "Requirement already satisfied: pydeck<1,>=0.8.0b4 in /usr/local/lib/python3.10/dist-packages (from streamlit->simpletransformers) (0.9.1)\n",
            "Requirement already satisfied: tornado<7,>=6.0.3 in /usr/local/lib/python3.10/dist-packages (from streamlit->simpletransformers) (6.3.3)\n",
            "Requirement already satisfied: watchdog<5,>=2.1.5 in /usr/local/lib/python3.10/dist-packages (from streamlit->simpletransformers) (4.0.1)\n",
            "Requirement already satisfied: absl-py>=0.4 in /usr/local/lib/python3.10/dist-packages (from tensorboard->simpletransformers) (1.4.0)\n",
            "Requirement already satisfied: grpcio>=1.48.2 in /usr/local/lib/python3.10/dist-packages (from tensorboard->simpletransformers) (1.64.1)\n",
            "Requirement already satisfied: markdown>=2.6.8 in /usr/local/lib/python3.10/dist-packages (from tensorboard->simpletransformers) (3.6)\n",
            "Requirement already satisfied: six>1.9 in /usr/local/lib/python3.10/dist-packages (from tensorboard->simpletransformers) (1.16.0)\n",
            "Requirement already satisfied: tensorboard-data-server<0.8.0,>=0.7.0 in /usr/local/lib/python3.10/dist-packages (from tensorboard->simpletransformers) (0.7.2)\n",
            "Requirement already satisfied: werkzeug>=1.0.1 in /usr/local/lib/python3.10/dist-packages (from tensorboard->simpletransformers) (3.0.3)\n",
            "Requirement already satisfied: entrypoints in /usr/local/lib/python3.10/dist-packages (from altair<6,>=4.0->streamlit->simpletransformers) (0.4)\n",
            "Requirement already satisfied: jinja2 in /usr/local/lib/python3.10/dist-packages (from altair<6,>=4.0->streamlit->simpletransformers) (3.1.4)\n",
            "Requirement already satisfied: jsonschema>=3.0 in /usr/local/lib/python3.10/dist-packages (from altair<6,>=4.0->streamlit->simpletransformers) (4.23.0)\n",
            "Requirement already satisfied: toolz in /usr/local/lib/python3.10/dist-packages (from altair<6,>=4.0->streamlit->simpletransformers) (0.12.1)\n",
            "Requirement already satisfied: aiosignal>=1.1.2 in /usr/local/lib/python3.10/dist-packages (from aiohttp->datasets->simpletransformers) (1.3.1)\n",
            "Requirement already satisfied: attrs>=17.3.0 in /usr/local/lib/python3.10/dist-packages (from aiohttp->datasets->simpletransformers) (23.2.0)\n",
            "Requirement already satisfied: frozenlist>=1.1.1 in /usr/local/lib/python3.10/dist-packages (from aiohttp->datasets->simpletransformers) (1.4.1)\n",
            "Requirement already satisfied: multidict<7.0,>=4.5 in /usr/local/lib/python3.10/dist-packages (from aiohttp->datasets->simpletransformers) (6.0.5)\n",
            "Requirement already satisfied: yarl<2.0,>=1.0 in /usr/local/lib/python3.10/dist-packages (from aiohttp->datasets->simpletransformers) (1.9.4)\n",
            "Requirement already satisfied: async-timeout<5.0,>=4.0 in /usr/local/lib/python3.10/dist-packages (from aiohttp->datasets->simpletransformers) (4.0.3)\n",
            "Requirement already satisfied: gitdb<5,>=4.0.1 in /usr/local/lib/python3.10/dist-packages (from gitpython!=3.1.29,>=1.0.0->wandb>=0.10.32->simpletransformers) (4.0.11)\n",
            "Requirement already satisfied: markdown-it-py>=2.2.0 in /usr/local/lib/python3.10/dist-packages (from rich<14,>=10.14.0->streamlit->simpletransformers) (3.0.0)\n",
            "Requirement already satisfied: pygments<3.0.0,>=2.13.0 in /usr/local/lib/python3.10/dist-packages (from rich<14,>=10.14.0->streamlit->simpletransformers) (2.16.1)\n",
            "Requirement already satisfied: MarkupSafe>=2.1.1 in /usr/local/lib/python3.10/dist-packages (from werkzeug>=1.0.1->tensorboard->simpletransformers) (2.1.5)\n",
            "Requirement already satisfied: smmap<6,>=3.0.1 in /usr/local/lib/python3.10/dist-packages (from gitdb<5,>=4.0.1->gitpython!=3.1.29,>=1.0.0->wandb>=0.10.32->simpletransformers) (5.0.1)\n",
            "Requirement already satisfied: jsonschema-specifications>=2023.03.6 in /usr/local/lib/python3.10/dist-packages (from jsonschema>=3.0->altair<6,>=4.0->streamlit->simpletransformers) (2023.12.1)\n",
            "Requirement already satisfied: referencing>=0.28.4 in /usr/local/lib/python3.10/dist-packages (from jsonschema>=3.0->altair<6,>=4.0->streamlit->simpletransformers) (0.35.1)\n",
            "Requirement already satisfied: rpds-py>=0.7.1 in /usr/local/lib/python3.10/dist-packages (from jsonschema>=3.0->altair<6,>=4.0->streamlit->simpletransformers) (0.19.1)\n",
            "Requirement already satisfied: mdurl~=0.1 in /usr/local/lib/python3.10/dist-packages (from markdown-it-py>=2.2.0->rich<14,>=10.14.0->streamlit->simpletransformers) (0.1.2)\n",
            "Requirement already satisfied: tensorboardx in /usr/local/lib/python3.10/dist-packages (2.6.2.2)\n",
            "Requirement already satisfied: numpy in /usr/local/lib/python3.10/dist-packages (from tensorboardx) (1.26.4)\n",
            "Requirement already satisfied: packaging in /usr/local/lib/python3.10/dist-packages (from tensorboardx) (24.1)\n",
            "Requirement already satisfied: protobuf>=3.20 in /usr/local/lib/python3.10/dist-packages (from tensorboardx) (3.20.3)\n",
            "Requirement already satisfied: pytorch-nlp in /usr/local/lib/python3.10/dist-packages (0.5.0)\n",
            "Requirement already satisfied: numpy in /usr/local/lib/python3.10/dist-packages (from pytorch-nlp) (1.26.4)\n",
            "Requirement already satisfied: tqdm in /usr/local/lib/python3.10/dist-packages (from pytorch-nlp) (4.66.4)\n"
          ]
        }
      ]
    },
    {
      "cell_type": "code",
      "metadata": {
        "colab": {
          "base_uri": "https://localhost:8080/"
        },
        "id": "Q3p52NUHl1D1",
        "outputId": "53ebf661-5baf-449e-f375-5df9fdbe94fc"
      },
      "source": [
        "# importing the libraries involved in matrix operations and dataframe handling\n",
        "import numpy as np\n",
        "import pandas as pd\n",
        "import seaborn as sns\n",
        "import matplotlib.pyplot as plt\n",
        "%matplotlib inline\n",
        "\n",
        "# importing libraries related to NLTK, vectorizers and string processing\n",
        "import nltk\n",
        "import string\n",
        "nltk.download(\"all\")\n",
        "from nltk.corpus import stopwords\n",
        "from nltk.tokenize import word_tokenize\n",
        "from sklearn.model_selection import train_test_split\n",
        "from sklearn.preprocessing import LabelEncoder\n",
        "from keras.preprocessing.sequence import pad_sequences\n",
        "from nltk.stem import WordNetLemmatizer\n",
        "from sklearn.feature_extraction.text import CountVectorizer, TfidfTransformer\n",
        "from sklearn.metrics import accuracy_score, confusion_matrix, classification_report\n",
        "\n",
        "# other miscellaneous libraries used while preparing data for testing and evaluation\n",
        "from collections import Counter\n",
        "import re\n",
        "from sys import maxsize\n",
        "import random\n",
        "import timeit\n",
        "import datetime\n",
        "import warnings\n",
        "warnings.filterwarnings(\"ignore\")"
      ],
      "execution_count": null,
      "outputs": [
        {
          "output_type": "stream",
          "name": "stderr",
          "text": [
            "[nltk_data] Downloading collection 'all'\n",
            "[nltk_data]    | \n",
            "[nltk_data]    | Downloading package abc to /root/nltk_data...\n",
            "[nltk_data]    |   Package abc is already up-to-date!\n",
            "[nltk_data]    | Downloading package alpino to /root/nltk_data...\n",
            "[nltk_data]    |   Package alpino is already up-to-date!\n",
            "[nltk_data]    | Downloading package averaged_perceptron_tagger to\n",
            "[nltk_data]    |     /root/nltk_data...\n",
            "[nltk_data]    |   Package averaged_perceptron_tagger is already up-\n",
            "[nltk_data]    |       to-date!\n",
            "[nltk_data]    | Downloading package averaged_perceptron_tagger_eng to\n",
            "[nltk_data]    |     /root/nltk_data...\n",
            "[nltk_data]    |   Package averaged_perceptron_tagger_eng is already\n",
            "[nltk_data]    |       up-to-date!\n",
            "[nltk_data]    | Downloading package averaged_perceptron_tagger_ru to\n",
            "[nltk_data]    |     /root/nltk_data...\n",
            "[nltk_data]    |   Package averaged_perceptron_tagger_ru is already\n",
            "[nltk_data]    |       up-to-date!\n",
            "[nltk_data]    | Downloading package averaged_perceptron_tagger_rus to\n",
            "[nltk_data]    |     /root/nltk_data...\n",
            "[nltk_data]    |   Package averaged_perceptron_tagger_rus is already\n",
            "[nltk_data]    |       up-to-date!\n",
            "[nltk_data]    | Downloading package basque_grammars to\n",
            "[nltk_data]    |     /root/nltk_data...\n",
            "[nltk_data]    |   Package basque_grammars is already up-to-date!\n",
            "[nltk_data]    | Downloading package bcp47 to /root/nltk_data...\n",
            "[nltk_data]    |   Package bcp47 is already up-to-date!\n",
            "[nltk_data]    | Downloading package biocreative_ppi to\n",
            "[nltk_data]    |     /root/nltk_data...\n",
            "[nltk_data]    |   Package biocreative_ppi is already up-to-date!\n",
            "[nltk_data]    | Downloading package bllip_wsj_no_aux to\n",
            "[nltk_data]    |     /root/nltk_data...\n",
            "[nltk_data]    |   Package bllip_wsj_no_aux is already up-to-date!\n",
            "[nltk_data]    | Downloading package book_grammars to\n",
            "[nltk_data]    |     /root/nltk_data...\n",
            "[nltk_data]    |   Package book_grammars is already up-to-date!\n",
            "[nltk_data]    | Downloading package brown to /root/nltk_data...\n",
            "[nltk_data]    |   Package brown is already up-to-date!\n",
            "[nltk_data]    | Downloading package brown_tei to /root/nltk_data...\n",
            "[nltk_data]    |   Package brown_tei is already up-to-date!\n",
            "[nltk_data]    | Downloading package cess_cat to /root/nltk_data...\n",
            "[nltk_data]    |   Package cess_cat is already up-to-date!\n",
            "[nltk_data]    | Downloading package cess_esp to /root/nltk_data...\n",
            "[nltk_data]    |   Package cess_esp is already up-to-date!\n",
            "[nltk_data]    | Downloading package chat80 to /root/nltk_data...\n",
            "[nltk_data]    |   Package chat80 is already up-to-date!\n",
            "[nltk_data]    | Downloading package city_database to\n",
            "[nltk_data]    |     /root/nltk_data...\n",
            "[nltk_data]    |   Package city_database is already up-to-date!\n",
            "[nltk_data]    | Downloading package cmudict to /root/nltk_data...\n",
            "[nltk_data]    |   Package cmudict is already up-to-date!\n",
            "[nltk_data]    | Downloading package comparative_sentences to\n",
            "[nltk_data]    |     /root/nltk_data...\n",
            "[nltk_data]    |   Package comparative_sentences is already up-to-\n",
            "[nltk_data]    |       date!\n",
            "[nltk_data]    | Downloading package comtrans to /root/nltk_data...\n",
            "[nltk_data]    |   Package comtrans is already up-to-date!\n",
            "[nltk_data]    | Downloading package conll2000 to /root/nltk_data...\n",
            "[nltk_data]    |   Package conll2000 is already up-to-date!\n",
            "[nltk_data]    | Downloading package conll2002 to /root/nltk_data...\n",
            "[nltk_data]    |   Package conll2002 is already up-to-date!\n",
            "[nltk_data]    | Downloading package conll2007 to /root/nltk_data...\n",
            "[nltk_data]    |   Package conll2007 is already up-to-date!\n",
            "[nltk_data]    | Downloading package crubadan to /root/nltk_data...\n",
            "[nltk_data]    |   Package crubadan is already up-to-date!\n",
            "[nltk_data]    | Downloading package dependency_treebank to\n",
            "[nltk_data]    |     /root/nltk_data...\n",
            "[nltk_data]    |   Package dependency_treebank is already up-to-date!\n",
            "[nltk_data]    | Downloading package dolch to /root/nltk_data...\n",
            "[nltk_data]    |   Package dolch is already up-to-date!\n",
            "[nltk_data]    | Downloading package europarl_raw to\n",
            "[nltk_data]    |     /root/nltk_data...\n",
            "[nltk_data]    |   Package europarl_raw is already up-to-date!\n",
            "[nltk_data]    | Downloading package extended_omw to\n",
            "[nltk_data]    |     /root/nltk_data...\n",
            "[nltk_data]    |   Package extended_omw is already up-to-date!\n",
            "[nltk_data]    | Downloading package floresta to /root/nltk_data...\n",
            "[nltk_data]    |   Package floresta is already up-to-date!\n",
            "[nltk_data]    | Downloading package framenet_v15 to\n",
            "[nltk_data]    |     /root/nltk_data...\n",
            "[nltk_data]    |   Package framenet_v15 is already up-to-date!\n",
            "[nltk_data]    | Downloading package framenet_v17 to\n",
            "[nltk_data]    |     /root/nltk_data...\n",
            "[nltk_data]    |   Package framenet_v17 is already up-to-date!\n",
            "[nltk_data]    | Downloading package gazetteers to /root/nltk_data...\n",
            "[nltk_data]    |   Package gazetteers is already up-to-date!\n",
            "[nltk_data]    | Downloading package genesis to /root/nltk_data...\n",
            "[nltk_data]    |   Package genesis is already up-to-date!\n",
            "[nltk_data]    | Downloading package gutenberg to /root/nltk_data...\n",
            "[nltk_data]    |   Package gutenberg is already up-to-date!\n",
            "[nltk_data]    | Downloading package ieer to /root/nltk_data...\n",
            "[nltk_data]    |   Package ieer is already up-to-date!\n",
            "[nltk_data]    | Downloading package inaugural to /root/nltk_data...\n",
            "[nltk_data]    |   Package inaugural is already up-to-date!\n",
            "[nltk_data]    | Downloading package indian to /root/nltk_data...\n",
            "[nltk_data]    |   Package indian is already up-to-date!\n",
            "[nltk_data]    | Downloading package jeita to /root/nltk_data...\n",
            "[nltk_data]    |   Package jeita is already up-to-date!\n",
            "[nltk_data]    | Downloading package kimmo to /root/nltk_data...\n",
            "[nltk_data]    |   Package kimmo is already up-to-date!\n",
            "[nltk_data]    | Downloading package knbc to /root/nltk_data...\n",
            "[nltk_data]    |   Package knbc is already up-to-date!\n",
            "[nltk_data]    | Downloading package large_grammars to\n",
            "[nltk_data]    |     /root/nltk_data...\n",
            "[nltk_data]    |   Package large_grammars is already up-to-date!\n",
            "[nltk_data]    | Downloading package lin_thesaurus to\n",
            "[nltk_data]    |     /root/nltk_data...\n",
            "[nltk_data]    |   Package lin_thesaurus is already up-to-date!\n",
            "[nltk_data]    | Downloading package mac_morpho to /root/nltk_data...\n",
            "[nltk_data]    |   Package mac_morpho is already up-to-date!\n",
            "[nltk_data]    | Downloading package machado to /root/nltk_data...\n",
            "[nltk_data]    |   Package machado is already up-to-date!\n",
            "[nltk_data]    | Downloading package masc_tagged to /root/nltk_data...\n",
            "[nltk_data]    |   Package masc_tagged is already up-to-date!\n",
            "[nltk_data]    | Downloading package maxent_ne_chunker to\n",
            "[nltk_data]    |     /root/nltk_data...\n",
            "[nltk_data]    |   Package maxent_ne_chunker is already up-to-date!\n",
            "[nltk_data]    | Downloading package maxent_ne_chunker_tab to\n",
            "[nltk_data]    |     /root/nltk_data...\n",
            "[nltk_data]    |   Package maxent_ne_chunker_tab is already up-to-\n",
            "[nltk_data]    |       date!\n",
            "[nltk_data]    | Downloading package maxent_treebank_pos_tagger to\n",
            "[nltk_data]    |     /root/nltk_data...\n",
            "[nltk_data]    |   Package maxent_treebank_pos_tagger is already up-\n",
            "[nltk_data]    |       to-date!\n",
            "[nltk_data]    | Downloading package maxent_treebank_pos_tagger_tab to\n",
            "[nltk_data]    |     /root/nltk_data...\n",
            "[nltk_data]    |   Package maxent_treebank_pos_tagger_tab is already\n",
            "[nltk_data]    |       up-to-date!\n",
            "[nltk_data]    | Downloading package moses_sample to\n",
            "[nltk_data]    |     /root/nltk_data...\n",
            "[nltk_data]    |   Package moses_sample is already up-to-date!\n",
            "[nltk_data]    | Downloading package movie_reviews to\n",
            "[nltk_data]    |     /root/nltk_data...\n",
            "[nltk_data]    |   Package movie_reviews is already up-to-date!\n",
            "[nltk_data]    | Downloading package mte_teip5 to /root/nltk_data...\n",
            "[nltk_data]    |   Package mte_teip5 is already up-to-date!\n",
            "[nltk_data]    | Downloading package mwa_ppdb to /root/nltk_data...\n",
            "[nltk_data]    |   Package mwa_ppdb is already up-to-date!\n",
            "[nltk_data]    | Downloading package names to /root/nltk_data...\n",
            "[nltk_data]    |   Package names is already up-to-date!\n",
            "[nltk_data]    | Downloading package nombank.1.0 to /root/nltk_data...\n",
            "[nltk_data]    |   Package nombank.1.0 is already up-to-date!\n",
            "[nltk_data]    | Downloading package nonbreaking_prefixes to\n",
            "[nltk_data]    |     /root/nltk_data...\n",
            "[nltk_data]    |   Package nonbreaking_prefixes is already up-to-date!\n",
            "[nltk_data]    | Downloading package nps_chat to /root/nltk_data...\n",
            "[nltk_data]    |   Package nps_chat is already up-to-date!\n",
            "[nltk_data]    | Downloading package omw to /root/nltk_data...\n",
            "[nltk_data]    |   Package omw is already up-to-date!\n",
            "[nltk_data]    | Downloading package omw-1.4 to /root/nltk_data...\n",
            "[nltk_data]    |   Package omw-1.4 is already up-to-date!\n",
            "[nltk_data]    | Downloading package opinion_lexicon to\n",
            "[nltk_data]    |     /root/nltk_data...\n",
            "[nltk_data]    |   Package opinion_lexicon is already up-to-date!\n",
            "[nltk_data]    | Downloading package panlex_swadesh to\n",
            "[nltk_data]    |     /root/nltk_data...\n",
            "[nltk_data]    |   Package panlex_swadesh is already up-to-date!\n",
            "[nltk_data]    | Downloading package paradigms to /root/nltk_data...\n",
            "[nltk_data]    |   Package paradigms is already up-to-date!\n",
            "[nltk_data]    | Downloading package pe08 to /root/nltk_data...\n",
            "[nltk_data]    |   Package pe08 is already up-to-date!\n",
            "[nltk_data]    | Downloading package perluniprops to\n",
            "[nltk_data]    |     /root/nltk_data...\n",
            "[nltk_data]    |   Package perluniprops is already up-to-date!\n",
            "[nltk_data]    | Downloading package pil to /root/nltk_data...\n",
            "[nltk_data]    |   Package pil is already up-to-date!\n",
            "[nltk_data]    | Downloading package pl196x to /root/nltk_data...\n",
            "[nltk_data]    |   Package pl196x is already up-to-date!\n",
            "[nltk_data]    | Downloading package porter_test to /root/nltk_data...\n",
            "[nltk_data]    |   Package porter_test is already up-to-date!\n",
            "[nltk_data]    | Downloading package ppattach to /root/nltk_data...\n",
            "[nltk_data]    |   Package ppattach is already up-to-date!\n",
            "[nltk_data]    | Downloading package problem_reports to\n",
            "[nltk_data]    |     /root/nltk_data...\n",
            "[nltk_data]    |   Package problem_reports is already up-to-date!\n",
            "[nltk_data]    | Downloading package product_reviews_1 to\n",
            "[nltk_data]    |     /root/nltk_data...\n",
            "[nltk_data]    |   Package product_reviews_1 is already up-to-date!\n",
            "[nltk_data]    | Downloading package product_reviews_2 to\n",
            "[nltk_data]    |     /root/nltk_data...\n",
            "[nltk_data]    |   Package product_reviews_2 is already up-to-date!\n",
            "[nltk_data]    | Downloading package propbank to /root/nltk_data...\n",
            "[nltk_data]    |   Package propbank is already up-to-date!\n",
            "[nltk_data]    | Downloading package pros_cons to /root/nltk_data...\n",
            "[nltk_data]    |   Package pros_cons is already up-to-date!\n",
            "[nltk_data]    | Downloading package ptb to /root/nltk_data...\n",
            "[nltk_data]    |   Package ptb is already up-to-date!\n",
            "[nltk_data]    | Downloading package punkt to /root/nltk_data...\n",
            "[nltk_data]    |   Package punkt is already up-to-date!\n",
            "[nltk_data]    | Downloading package punkt_tab to /root/nltk_data...\n",
            "[nltk_data]    |   Package punkt_tab is already up-to-date!\n",
            "[nltk_data]    | Downloading package qc to /root/nltk_data...\n",
            "[nltk_data]    |   Package qc is already up-to-date!\n",
            "[nltk_data]    | Downloading package reuters to /root/nltk_data...\n",
            "[nltk_data]    |   Package reuters is already up-to-date!\n",
            "[nltk_data]    | Downloading package rslp to /root/nltk_data...\n",
            "[nltk_data]    |   Package rslp is already up-to-date!\n",
            "[nltk_data]    | Downloading package rte to /root/nltk_data...\n",
            "[nltk_data]    |   Package rte is already up-to-date!\n",
            "[nltk_data]    | Downloading package sample_grammars to\n",
            "[nltk_data]    |     /root/nltk_data...\n",
            "[nltk_data]    |   Package sample_grammars is already up-to-date!\n",
            "[nltk_data]    | Downloading package semcor to /root/nltk_data...\n",
            "[nltk_data]    |   Package semcor is already up-to-date!\n",
            "[nltk_data]    | Downloading package senseval to /root/nltk_data...\n",
            "[nltk_data]    |   Package senseval is already up-to-date!\n",
            "[nltk_data]    | Downloading package sentence_polarity to\n",
            "[nltk_data]    |     /root/nltk_data...\n",
            "[nltk_data]    |   Package sentence_polarity is already up-to-date!\n",
            "[nltk_data]    | Downloading package sentiwordnet to\n",
            "[nltk_data]    |     /root/nltk_data...\n",
            "[nltk_data]    |   Package sentiwordnet is already up-to-date!\n",
            "[nltk_data]    | Downloading package shakespeare to /root/nltk_data...\n",
            "[nltk_data]    |   Package shakespeare is already up-to-date!\n",
            "[nltk_data]    | Downloading package sinica_treebank to\n",
            "[nltk_data]    |     /root/nltk_data...\n",
            "[nltk_data]    |   Package sinica_treebank is already up-to-date!\n",
            "[nltk_data]    | Downloading package smultron to /root/nltk_data...\n",
            "[nltk_data]    |   Package smultron is already up-to-date!\n",
            "[nltk_data]    | Downloading package snowball_data to\n",
            "[nltk_data]    |     /root/nltk_data...\n",
            "[nltk_data]    |   Package snowball_data is already up-to-date!\n",
            "[nltk_data]    | Downloading package spanish_grammars to\n",
            "[nltk_data]    |     /root/nltk_data...\n",
            "[nltk_data]    |   Package spanish_grammars is already up-to-date!\n",
            "[nltk_data]    | Downloading package state_union to /root/nltk_data...\n",
            "[nltk_data]    |   Package state_union is already up-to-date!\n",
            "[nltk_data]    | Downloading package stopwords to /root/nltk_data...\n",
            "[nltk_data]    |   Package stopwords is already up-to-date!\n",
            "[nltk_data]    | Downloading package subjectivity to\n",
            "[nltk_data]    |     /root/nltk_data...\n",
            "[nltk_data]    |   Package subjectivity is already up-to-date!\n",
            "[nltk_data]    | Downloading package swadesh to /root/nltk_data...\n",
            "[nltk_data]    |   Package swadesh is already up-to-date!\n",
            "[nltk_data]    | Downloading package switchboard to /root/nltk_data...\n",
            "[nltk_data]    |   Package switchboard is already up-to-date!\n",
            "[nltk_data]    | Downloading package tagsets to /root/nltk_data...\n",
            "[nltk_data]    |   Package tagsets is already up-to-date!\n",
            "[nltk_data]    | Downloading package tagsets_json to\n",
            "[nltk_data]    |     /root/nltk_data...\n",
            "[nltk_data]    |   Package tagsets_json is already up-to-date!\n",
            "[nltk_data]    | Downloading package timit to /root/nltk_data...\n",
            "[nltk_data]    |   Package timit is already up-to-date!\n",
            "[nltk_data]    | Downloading package toolbox to /root/nltk_data...\n",
            "[nltk_data]    |   Package toolbox is already up-to-date!\n",
            "[nltk_data]    | Downloading package treebank to /root/nltk_data...\n",
            "[nltk_data]    |   Package treebank is already up-to-date!\n",
            "[nltk_data]    | Downloading package twitter_samples to\n",
            "[nltk_data]    |     /root/nltk_data...\n",
            "[nltk_data]    |   Package twitter_samples is already up-to-date!\n",
            "[nltk_data]    | Downloading package udhr to /root/nltk_data...\n",
            "[nltk_data]    |   Package udhr is already up-to-date!\n",
            "[nltk_data]    | Downloading package udhr2 to /root/nltk_data...\n",
            "[nltk_data]    |   Package udhr2 is already up-to-date!\n",
            "[nltk_data]    | Downloading package unicode_samples to\n",
            "[nltk_data]    |     /root/nltk_data...\n",
            "[nltk_data]    |   Package unicode_samples is already up-to-date!\n",
            "[nltk_data]    | Downloading package universal_tagset to\n",
            "[nltk_data]    |     /root/nltk_data...\n",
            "[nltk_data]    |   Package universal_tagset is already up-to-date!\n",
            "[nltk_data]    | Downloading package universal_treebanks_v20 to\n",
            "[nltk_data]    |     /root/nltk_data...\n",
            "[nltk_data]    |   Package universal_treebanks_v20 is already up-to-\n",
            "[nltk_data]    |       date!\n",
            "[nltk_data]    | Downloading package vader_lexicon to\n",
            "[nltk_data]    |     /root/nltk_data...\n",
            "[nltk_data]    |   Package vader_lexicon is already up-to-date!\n",
            "[nltk_data]    | Downloading package verbnet to /root/nltk_data...\n",
            "[nltk_data]    |   Package verbnet is already up-to-date!\n",
            "[nltk_data]    | Downloading package verbnet3 to /root/nltk_data...\n",
            "[nltk_data]    |   Package verbnet3 is already up-to-date!\n",
            "[nltk_data]    | Downloading package webtext to /root/nltk_data...\n",
            "[nltk_data]    |   Package webtext is already up-to-date!\n",
            "[nltk_data]    | Downloading package wmt15_eval to /root/nltk_data...\n",
            "[nltk_data]    |   Package wmt15_eval is already up-to-date!\n",
            "[nltk_data]    | Downloading package word2vec_sample to\n",
            "[nltk_data]    |     /root/nltk_data...\n",
            "[nltk_data]    |   Package word2vec_sample is already up-to-date!\n",
            "[nltk_data]    | Downloading package wordnet to /root/nltk_data...\n",
            "[nltk_data]    |   Package wordnet is already up-to-date!\n",
            "[nltk_data]    | Downloading package wordnet2021 to /root/nltk_data...\n",
            "[nltk_data]    |   Package wordnet2021 is already up-to-date!\n",
            "[nltk_data]    | Downloading package wordnet2022 to /root/nltk_data...\n",
            "[nltk_data]    |   Package wordnet2022 is already up-to-date!\n",
            "[nltk_data]    | Downloading package wordnet31 to /root/nltk_data...\n",
            "[nltk_data]    |   Package wordnet31 is already up-to-date!\n",
            "[nltk_data]    | Downloading package wordnet_ic to /root/nltk_data...\n",
            "[nltk_data]    |   Package wordnet_ic is already up-to-date!\n",
            "[nltk_data]    | Downloading package words to /root/nltk_data...\n",
            "[nltk_data]    |   Package words is already up-to-date!\n",
            "[nltk_data]    | Downloading package ycoe to /root/nltk_data...\n",
            "[nltk_data]    |   Package ycoe is already up-to-date!\n",
            "[nltk_data]    | \n",
            "[nltk_data]  Done downloading collection all\n"
          ]
        }
      ]
    },
    {
      "cell_type": "code",
      "metadata": {
        "colab": {
          "base_uri": "https://localhost:8080/"
        },
        "id": "7nJv_kR7Qacd",
        "outputId": "1f69fec5-f153-4013-a1ac-1708042c191f"
      },
      "source": [
        "from google.colab import drive\n",
        "drive.mount('drive', force_remount = True)"
      ],
      "execution_count": null,
      "outputs": [
        {
          "output_type": "stream",
          "name": "stdout",
          "text": [
            "Mounted at drive\n"
          ]
        }
      ]
    },
    {
      "cell_type": "markdown",
      "metadata": {
        "id": "5_BDY7yVcaVb"
      },
      "source": [
        "## **PART 1) Transformer Based Models:**\n",
        "\n",
        "In the first part of the notebook Transformer based models like BERT and its variants like DistilBERT, RoBERTa and XLNet are trained and tested."
      ]
    },
    {
      "cell_type": "markdown",
      "metadata": {
        "id": "jW62yz8KdJlr"
      },
      "source": [
        "## **1) Training and Testing the Bidirectional Encoder Representations from Transformers (BERT) model**\n",
        "\n",
        "The first transformer based model that is trained is BERT. BERT has shown amazing results in the field of NLP for several tasks like text classification, question answering, etc and hence, it was decided to try BERT as well to solve our problem of Product Categorization (Multiclass Classification)."
      ]
    },
    {
      "cell_type": "code",
      "metadata": {
        "colab": {
          "base_uri": "https://localhost:8080/",
          "height": 1000
        },
        "id": "ZEGkfnAMpFJE",
        "outputId": "c7f9e4dd-7a12-4ccd-f609-bc954044f7f3"
      },
      "source": [
        "balanced_df = pd.read_csv(\"/content/drive/MyDrive/Colab Notebooks/undersampling_balanced_products.csv\")\n",
        "balanced_df.sample(10)"
      ],
      "execution_count": null,
      "outputs": [
        {
          "output_type": "execute_result",
          "data": {
            "text/plain": [
              "       Unnamed: 0                           uniq_id  \\\n",
              "10550       10550  a2f14c69402bf2508cc7f9ddeccc4bd1   \n",
              "349           349  9d442ef603d3149cf53c95d9b4cb490f   \n",
              "5518         5518  cb0afa31d9ca796908fde019cd64044d   \n",
              "5377         5377  9f1fc799de37a3325900ea892494af51   \n",
              "11220       11220  4fbc3935a634aa2dec2676641d52fcab   \n",
              "7234         7234  544e9220edf5182b62dd8d955d347784   \n",
              "6845         6845  41c459b3b531aa0b725155a97e429b85   \n",
              "13105       13105  c41e4520b3daaf2edd11f80234bb28fd   \n",
              "12330       12330  6933454b58d77d4ab74168389c9c5d60   \n",
              "6484         6484  a8293602876a2c65520a61c127522f77   \n",
              "\n",
              "                 crawl_timestamp  \\\n",
              "10550  2015-12-30 00:17:46 +0000   \n",
              "349    2016-01-06 18:20:45 +0000   \n",
              "5518   2015-12-01 06:13:00 +0000   \n",
              "5377   2015-12-01 06:13:00 +0000   \n",
              "11220  2015-12-30 00:17:46 +0000   \n",
              "7234   2016-04-16 13:01:18 +0000   \n",
              "6845   2016-03-05 04:18:53 +0000   \n",
              "13105  2015-12-12 11:46:53 +0000   \n",
              "12330  2015-12-13 00:29:55 +0000   \n",
              "6484   2015-12-01 06:13:00 +0000   \n",
              "\n",
              "                                             product_url  \\\n",
              "10550  http://www.flipkart.com/vama-fashions-alloy-cu...   \n",
              "349    http://www.flipkart.com/bluestone-princess-gol...   \n",
              "5518   http://www.flipkart.com/asus-rt-ac68u-dual-ban...   \n",
              "5377   http://www.flipkart.com/modx-steering-cover-hy...   \n",
              "11220  http://www.flipkart.com/eves-pret-porter-women...   \n",
              "7234   http://www.flipkart.com/emagica-home-security-...   \n",
              "6845   http://www.flipkart.com/kits-kart-pouch-intex-...   \n",
              "13105  http://www.flipkart.com/my-foot-women-wedges/p...   \n",
              "12330  http://www.flipkart.com/ocean-race-graphic-pri...   \n",
              "6484   http://www.flipkart.com/espoir-alloy-necklace/...   \n",
              "\n",
              "                                            product_name  \\\n",
              "10550  Viva Fashions Alloy Cubic Zirconia Rhodium Bangle   \n",
              "349        BlueStone The Princess Gold Diamond 18 K Ring   \n",
              "5518   Asus RT-AC68U Dual-band Wireless-AC1900 Gigabi...   \n",
              "5377                 Modx Steering Cover For Hyundai i10   \n",
              "11220      Eves Pret A Porter Women's Solid Casual Shirt   \n",
              "7234   Emagica Home Security 1 Channel Home Security ...   \n",
              "6845              kits kart Pouch for Intex Aqua i5 Mini   \n",
              "13105                               My Foot Women Wedges   \n",
              "12330  Ocean Race Graphic Print Men's Round Neck T-Shirt   \n",
              "6484                               Espoir Alloy Necklace   \n",
              "\n",
              "        product_category_tree               pid  retail_price  \\\n",
              "10550              Jewellery   BBAEDZHYZZQHYEHU         900.0   \n",
              "349                Jewellery   RNGDQ5GGSFNHNANZ       35415.0   \n",
              "5518               Computers   RTRDRDPR9JHCSBGH       25000.0   \n",
              "5377              Automotive   CSOE88UGU7GZPNZS         549.0   \n",
              "11220               Clothing   SHTE9KP2PGR2MPHM        1200.0   \n",
              "7234       Pens & Stationery   HSAEGZAV4UGWJAAH        3590.0   \n",
              "6845   Mobiles & Accessories   ACCEGH6RPWY9DHAB         908.0   \n",
              "13105               Footwear   SNDEAN42PCMFHQAR        1599.0   \n",
              "12330               Clothing   TSHE9K9GCGK6GRB5         598.0   \n",
              "6484               Jewellery   NKCE6Y3M64RTXY2F         999.0   \n",
              "\n",
              "       discounted_price                                              image  \\\n",
              "10550             900.0  [\"http://img6a.flixcart.com/image/bangle-brace...   \n",
              "349             26984.0  [\"http://img5a.flixcart.com/image/ring/w/z/v/5...   \n",
              "5518            13390.0  [\"http://img6a.flixcart.com/image/router/b/g/h...   \n",
              "5377              477.0  [\"http://img5a.flixcart.com/image/car-steering...   \n",
              "11220             399.0  [\"http://img6a.flixcart.com/image/shirt/g/s/7/...   \n",
              "7234             2420.0  [\"http://img5a.flixcart.com/image/home-securit...   \n",
              "6845              454.0  [\"http://img5a.flixcart.com/image/cases-covers...   \n",
              "13105             956.0  [\"http://img5a.flixcart.com/image/sandal/c/z/q...   \n",
              "12330             299.0  [\"http://img6a.flixcart.com/image/t-shirt/r/b/...   \n",
              "6484              399.0  [\"http://img5a.flixcart.com/image/pendant-lock...   \n",
              "\n",
              "       ...                                        description  \\\n",
              "10550  ...  Viva Fashions Alloy Cubic Zirconia Rhodium Ban...   \n",
              "349    ...  BlueStone The Princess Gold Diamond 18 K Ring ...   \n",
              "5518   ...  Buy Asus RT-AC68U Dual-band Wireless-AC1900 Gi...   \n",
              "5377   ...  Buy Modx Steering Cover For Hyundai i10 for Rs...   \n",
              "11220  ...  Eves Pret A Porter Women's Solid Casual Shirt ...   \n",
              "7234   ...  Key Features of Emagica Home Security 1 Channe...   \n",
              "6845   ...  Key Features of kits kart Pouch for Intex Aqua...   \n",
              "13105  ...  Flipkart.com: Buy My Foot Women Wedges only fo...   \n",
              "12330  ...  Ocean Race Graphic Print Men's Round Neck T-Sh...   \n",
              "6484   ...  Espoir Alloy Necklace - Buy Espoir Alloy Neckl...   \n",
              "\n",
              "            product_rating       overall_rating          brand  \\\n",
              "10550  No rating available  No rating available  Viva Fashions   \n",
              "349    No rating available  No rating available      BlueStone   \n",
              "5518                   4.3                  4.3           Asus   \n",
              "5377   No rating available  No rating available           Modx   \n",
              "11220  No rating available  No rating available           Slim   \n",
              "7234   No rating available  No rating available        Emagica   \n",
              "6845   No rating available  No rating available      kits kart   \n",
              "13105  No rating available  No rating available            NaN   \n",
              "12330  No rating available  No rating available            NaN   \n",
              "6484   No rating available  No rating available         Espoir   \n",
              "\n",
              "                                  product_specifications   primary_categories  \\\n",
              "10550  {\"product_specification\"=>[{\"key\"=>\"Brand\", \"v...            jewellery   \n",
              "349    {\"product_specification\"=>[{\"key\"=>\"Pack of\", ...            jewellery   \n",
              "5518   {\"product_specification\"=>[{\"key\"=>\"In The Box...          electronics   \n",
              "5377   {\"product_specification\"=>[{\"key\"=>\"Brand\", \"v...           automotive   \n",
              "11220  {\"product_specification\"=>[{\"key\"=>\"Pattern\", ...             clothing   \n",
              "7234   {\"product_specification\"=>[{\"value\"=>\"1 Home S...  toys&schoolsupplies   \n",
              "6845   {\"product_specification\"=>[{\"key\"=>\"Brand\", \"v...          electronics   \n",
              "13105  {\"product_specification\"=>[{\"key\"=>\"Ideal For\"...             footwear   \n",
              "12330  {\"product_specification\"=>[{\"key\"=>\"Sleeve\", \"...             clothing   \n",
              "6484   {\"product_specification\"=>[{\"key\"=>\"Collection...            jewellery   \n",
              "\n",
              "      main_category      desc_pol  desc_len  \\\n",
              "10550             1  2.250000e-01     227.0   \n",
              "349               1  2.250000e-01     219.0   \n",
              "5518              1  2.250000e-01     182.0   \n",
              "5377              1  4.500000e-01     201.0   \n",
              "11220             1 -7.500000e-02     220.0   \n",
              "7234              1  1.572055e-01    1632.0   \n",
              "6845              1  1.361527e-01    1678.0   \n",
              "13105             1  2.250000e-01     160.0   \n",
              "12330             1  7.930164e-18     226.0   \n",
              "6484              1  2.250000e-01     171.0   \n",
              "\n",
              "                                            cleaned_desc  \n",
              "10550  viva fashions alloy cubic zirconia rhodium ban...  \n",
              "349    bluestone the princess gold diamond 18 k ring ...  \n",
              "5518   buy asus rt-ac68u dual-band wireless-ac1900 gi...  \n",
              "5377   buy modx steering cover for hyundai i10 for rs...  \n",
              "11220  eves pret a porter women's solid casual shirt ...  \n",
              "7234   key features of emagica home security 1 channe...  \n",
              "6845   key features of kits kart pouch for intex aqua...  \n",
              "13105  flipkart.com: buy my foot women wedges only fo...  \n",
              "12330  ocean race graphic print men's round neck t-sh...  \n",
              "6484   espoir alloy necklace - buy espoir alloy neckl...  \n",
              "\n",
              "[10 rows x 21 columns]"
            ],
            "text/html": [
              "\n",
              "  <div id=\"df-317f3d49-417e-4e8a-b2e5-0a892d948a59\" class=\"colab-df-container\">\n",
              "    <div>\n",
              "<style scoped>\n",
              "    .dataframe tbody tr th:only-of-type {\n",
              "        vertical-align: middle;\n",
              "    }\n",
              "\n",
              "    .dataframe tbody tr th {\n",
              "        vertical-align: top;\n",
              "    }\n",
              "\n",
              "    .dataframe thead th {\n",
              "        text-align: right;\n",
              "    }\n",
              "</style>\n",
              "<table border=\"1\" class=\"dataframe\">\n",
              "  <thead>\n",
              "    <tr style=\"text-align: right;\">\n",
              "      <th></th>\n",
              "      <th>Unnamed: 0</th>\n",
              "      <th>uniq_id</th>\n",
              "      <th>crawl_timestamp</th>\n",
              "      <th>product_url</th>\n",
              "      <th>product_name</th>\n",
              "      <th>product_category_tree</th>\n",
              "      <th>pid</th>\n",
              "      <th>retail_price</th>\n",
              "      <th>discounted_price</th>\n",
              "      <th>image</th>\n",
              "      <th>...</th>\n",
              "      <th>description</th>\n",
              "      <th>product_rating</th>\n",
              "      <th>overall_rating</th>\n",
              "      <th>brand</th>\n",
              "      <th>product_specifications</th>\n",
              "      <th>primary_categories</th>\n",
              "      <th>main_category</th>\n",
              "      <th>desc_pol</th>\n",
              "      <th>desc_len</th>\n",
              "      <th>cleaned_desc</th>\n",
              "    </tr>\n",
              "  </thead>\n",
              "  <tbody>\n",
              "    <tr>\n",
              "      <th>10550</th>\n",
              "      <td>10550</td>\n",
              "      <td>a2f14c69402bf2508cc7f9ddeccc4bd1</td>\n",
              "      <td>2015-12-30 00:17:46 +0000</td>\n",
              "      <td>http://www.flipkart.com/vama-fashions-alloy-cu...</td>\n",
              "      <td>Viva Fashions Alloy Cubic Zirconia Rhodium Bangle</td>\n",
              "      <td>Jewellery</td>\n",
              "      <td>BBAEDZHYZZQHYEHU</td>\n",
              "      <td>900.0</td>\n",
              "      <td>900.0</td>\n",
              "      <td>[\"http://img6a.flixcart.com/image/bangle-brace...</td>\n",
              "      <td>...</td>\n",
              "      <td>Viva Fashions Alloy Cubic Zirconia Rhodium Ban...</td>\n",
              "      <td>No rating available</td>\n",
              "      <td>No rating available</td>\n",
              "      <td>Viva Fashions</td>\n",
              "      <td>{\"product_specification\"=&gt;[{\"key\"=&gt;\"Brand\", \"v...</td>\n",
              "      <td>jewellery</td>\n",
              "      <td>1</td>\n",
              "      <td>2.250000e-01</td>\n",
              "      <td>227.0</td>\n",
              "      <td>viva fashions alloy cubic zirconia rhodium ban...</td>\n",
              "    </tr>\n",
              "    <tr>\n",
              "      <th>349</th>\n",
              "      <td>349</td>\n",
              "      <td>9d442ef603d3149cf53c95d9b4cb490f</td>\n",
              "      <td>2016-01-06 18:20:45 +0000</td>\n",
              "      <td>http://www.flipkart.com/bluestone-princess-gol...</td>\n",
              "      <td>BlueStone The Princess Gold Diamond 18 K Ring</td>\n",
              "      <td>Jewellery</td>\n",
              "      <td>RNGDQ5GGSFNHNANZ</td>\n",
              "      <td>35415.0</td>\n",
              "      <td>26984.0</td>\n",
              "      <td>[\"http://img5a.flixcart.com/image/ring/w/z/v/5...</td>\n",
              "      <td>...</td>\n",
              "      <td>BlueStone The Princess Gold Diamond 18 K Ring ...</td>\n",
              "      <td>No rating available</td>\n",
              "      <td>No rating available</td>\n",
              "      <td>BlueStone</td>\n",
              "      <td>{\"product_specification\"=&gt;[{\"key\"=&gt;\"Pack of\", ...</td>\n",
              "      <td>jewellery</td>\n",
              "      <td>1</td>\n",
              "      <td>2.250000e-01</td>\n",
              "      <td>219.0</td>\n",
              "      <td>bluestone the princess gold diamond 18 k ring ...</td>\n",
              "    </tr>\n",
              "    <tr>\n",
              "      <th>5518</th>\n",
              "      <td>5518</td>\n",
              "      <td>cb0afa31d9ca796908fde019cd64044d</td>\n",
              "      <td>2015-12-01 06:13:00 +0000</td>\n",
              "      <td>http://www.flipkart.com/asus-rt-ac68u-dual-ban...</td>\n",
              "      <td>Asus RT-AC68U Dual-band Wireless-AC1900 Gigabi...</td>\n",
              "      <td>Computers</td>\n",
              "      <td>RTRDRDPR9JHCSBGH</td>\n",
              "      <td>25000.0</td>\n",
              "      <td>13390.0</td>\n",
              "      <td>[\"http://img6a.flixcart.com/image/router/b/g/h...</td>\n",
              "      <td>...</td>\n",
              "      <td>Buy Asus RT-AC68U Dual-band Wireless-AC1900 Gi...</td>\n",
              "      <td>4.3</td>\n",
              "      <td>4.3</td>\n",
              "      <td>Asus</td>\n",
              "      <td>{\"product_specification\"=&gt;[{\"key\"=&gt;\"In The Box...</td>\n",
              "      <td>electronics</td>\n",
              "      <td>1</td>\n",
              "      <td>2.250000e-01</td>\n",
              "      <td>182.0</td>\n",
              "      <td>buy asus rt-ac68u dual-band wireless-ac1900 gi...</td>\n",
              "    </tr>\n",
              "    <tr>\n",
              "      <th>5377</th>\n",
              "      <td>5377</td>\n",
              "      <td>9f1fc799de37a3325900ea892494af51</td>\n",
              "      <td>2015-12-01 06:13:00 +0000</td>\n",
              "      <td>http://www.flipkart.com/modx-steering-cover-hy...</td>\n",
              "      <td>Modx Steering Cover For Hyundai i10</td>\n",
              "      <td>Automotive</td>\n",
              "      <td>CSOE88UGU7GZPNZS</td>\n",
              "      <td>549.0</td>\n",
              "      <td>477.0</td>\n",
              "      <td>[\"http://img5a.flixcart.com/image/car-steering...</td>\n",
              "      <td>...</td>\n",
              "      <td>Buy Modx Steering Cover For Hyundai i10 for Rs...</td>\n",
              "      <td>No rating available</td>\n",
              "      <td>No rating available</td>\n",
              "      <td>Modx</td>\n",
              "      <td>{\"product_specification\"=&gt;[{\"key\"=&gt;\"Brand\", \"v...</td>\n",
              "      <td>automotive</td>\n",
              "      <td>1</td>\n",
              "      <td>4.500000e-01</td>\n",
              "      <td>201.0</td>\n",
              "      <td>buy modx steering cover for hyundai i10 for rs...</td>\n",
              "    </tr>\n",
              "    <tr>\n",
              "      <th>11220</th>\n",
              "      <td>11220</td>\n",
              "      <td>4fbc3935a634aa2dec2676641d52fcab</td>\n",
              "      <td>2015-12-30 00:17:46 +0000</td>\n",
              "      <td>http://www.flipkart.com/eves-pret-porter-women...</td>\n",
              "      <td>Eves Pret A Porter Women's Solid Casual Shirt</td>\n",
              "      <td>Clothing</td>\n",
              "      <td>SHTE9KP2PGR2MPHM</td>\n",
              "      <td>1200.0</td>\n",
              "      <td>399.0</td>\n",
              "      <td>[\"http://img6a.flixcart.com/image/shirt/g/s/7/...</td>\n",
              "      <td>...</td>\n",
              "      <td>Eves Pret A Porter Women's Solid Casual Shirt ...</td>\n",
              "      <td>No rating available</td>\n",
              "      <td>No rating available</td>\n",
              "      <td>Slim</td>\n",
              "      <td>{\"product_specification\"=&gt;[{\"key\"=&gt;\"Pattern\", ...</td>\n",
              "      <td>clothing</td>\n",
              "      <td>1</td>\n",
              "      <td>-7.500000e-02</td>\n",
              "      <td>220.0</td>\n",
              "      <td>eves pret a porter women's solid casual shirt ...</td>\n",
              "    </tr>\n",
              "    <tr>\n",
              "      <th>7234</th>\n",
              "      <td>7234</td>\n",
              "      <td>544e9220edf5182b62dd8d955d347784</td>\n",
              "      <td>2016-04-16 13:01:18 +0000</td>\n",
              "      <td>http://www.flipkart.com/emagica-home-security-...</td>\n",
              "      <td>Emagica Home Security 1 Channel Home Security ...</td>\n",
              "      <td>Pens &amp; Stationery</td>\n",
              "      <td>HSAEGZAV4UGWJAAH</td>\n",
              "      <td>3590.0</td>\n",
              "      <td>2420.0</td>\n",
              "      <td>[\"http://img5a.flixcart.com/image/home-securit...</td>\n",
              "      <td>...</td>\n",
              "      <td>Key Features of Emagica Home Security 1 Channe...</td>\n",
              "      <td>No rating available</td>\n",
              "      <td>No rating available</td>\n",
              "      <td>Emagica</td>\n",
              "      <td>{\"product_specification\"=&gt;[{\"value\"=&gt;\"1 Home S...</td>\n",
              "      <td>toys&amp;schoolsupplies</td>\n",
              "      <td>1</td>\n",
              "      <td>1.572055e-01</td>\n",
              "      <td>1632.0</td>\n",
              "      <td>key features of emagica home security 1 channe...</td>\n",
              "    </tr>\n",
              "    <tr>\n",
              "      <th>6845</th>\n",
              "      <td>6845</td>\n",
              "      <td>41c459b3b531aa0b725155a97e429b85</td>\n",
              "      <td>2016-03-05 04:18:53 +0000</td>\n",
              "      <td>http://www.flipkart.com/kits-kart-pouch-intex-...</td>\n",
              "      <td>kits kart Pouch for Intex Aqua i5 Mini</td>\n",
              "      <td>Mobiles &amp; Accessories</td>\n",
              "      <td>ACCEGH6RPWY9DHAB</td>\n",
              "      <td>908.0</td>\n",
              "      <td>454.0</td>\n",
              "      <td>[\"http://img5a.flixcart.com/image/cases-covers...</td>\n",
              "      <td>...</td>\n",
              "      <td>Key Features of kits kart Pouch for Intex Aqua...</td>\n",
              "      <td>No rating available</td>\n",
              "      <td>No rating available</td>\n",
              "      <td>kits kart</td>\n",
              "      <td>{\"product_specification\"=&gt;[{\"key\"=&gt;\"Brand\", \"v...</td>\n",
              "      <td>electronics</td>\n",
              "      <td>1</td>\n",
              "      <td>1.361527e-01</td>\n",
              "      <td>1678.0</td>\n",
              "      <td>key features of kits kart pouch for intex aqua...</td>\n",
              "    </tr>\n",
              "    <tr>\n",
              "      <th>13105</th>\n",
              "      <td>13105</td>\n",
              "      <td>c41e4520b3daaf2edd11f80234bb28fd</td>\n",
              "      <td>2015-12-12 11:46:53 +0000</td>\n",
              "      <td>http://www.flipkart.com/my-foot-women-wedges/p...</td>\n",
              "      <td>My Foot Women Wedges</td>\n",
              "      <td>Footwear</td>\n",
              "      <td>SNDEAN42PCMFHQAR</td>\n",
              "      <td>1599.0</td>\n",
              "      <td>956.0</td>\n",
              "      <td>[\"http://img5a.flixcart.com/image/sandal/c/z/q...</td>\n",
              "      <td>...</td>\n",
              "      <td>Flipkart.com: Buy My Foot Women Wedges only fo...</td>\n",
              "      <td>No rating available</td>\n",
              "      <td>No rating available</td>\n",
              "      <td>NaN</td>\n",
              "      <td>{\"product_specification\"=&gt;[{\"key\"=&gt;\"Ideal For\"...</td>\n",
              "      <td>footwear</td>\n",
              "      <td>1</td>\n",
              "      <td>2.250000e-01</td>\n",
              "      <td>160.0</td>\n",
              "      <td>flipkart.com: buy my foot women wedges only fo...</td>\n",
              "    </tr>\n",
              "    <tr>\n",
              "      <th>12330</th>\n",
              "      <td>12330</td>\n",
              "      <td>6933454b58d77d4ab74168389c9c5d60</td>\n",
              "      <td>2015-12-13 00:29:55 +0000</td>\n",
              "      <td>http://www.flipkart.com/ocean-race-graphic-pri...</td>\n",
              "      <td>Ocean Race Graphic Print Men's Round Neck T-Shirt</td>\n",
              "      <td>Clothing</td>\n",
              "      <td>TSHE9K9GCGK6GRB5</td>\n",
              "      <td>598.0</td>\n",
              "      <td>299.0</td>\n",
              "      <td>[\"http://img6a.flixcart.com/image/t-shirt/r/b/...</td>\n",
              "      <td>...</td>\n",
              "      <td>Ocean Race Graphic Print Men's Round Neck T-Sh...</td>\n",
              "      <td>No rating available</td>\n",
              "      <td>No rating available</td>\n",
              "      <td>NaN</td>\n",
              "      <td>{\"product_specification\"=&gt;[{\"key\"=&gt;\"Sleeve\", \"...</td>\n",
              "      <td>clothing</td>\n",
              "      <td>1</td>\n",
              "      <td>7.930164e-18</td>\n",
              "      <td>226.0</td>\n",
              "      <td>ocean race graphic print men's round neck t-sh...</td>\n",
              "    </tr>\n",
              "    <tr>\n",
              "      <th>6484</th>\n",
              "      <td>6484</td>\n",
              "      <td>a8293602876a2c65520a61c127522f77</td>\n",
              "      <td>2015-12-01 06:13:00 +0000</td>\n",
              "      <td>http://www.flipkart.com/espoir-alloy-necklace/...</td>\n",
              "      <td>Espoir Alloy Necklace</td>\n",
              "      <td>Jewellery</td>\n",
              "      <td>NKCE6Y3M64RTXY2F</td>\n",
              "      <td>999.0</td>\n",
              "      <td>399.0</td>\n",
              "      <td>[\"http://img5a.flixcart.com/image/pendant-lock...</td>\n",
              "      <td>...</td>\n",
              "      <td>Espoir Alloy Necklace - Buy Espoir Alloy Neckl...</td>\n",
              "      <td>No rating available</td>\n",
              "      <td>No rating available</td>\n",
              "      <td>Espoir</td>\n",
              "      <td>{\"product_specification\"=&gt;[{\"key\"=&gt;\"Collection...</td>\n",
              "      <td>jewellery</td>\n",
              "      <td>1</td>\n",
              "      <td>2.250000e-01</td>\n",
              "      <td>171.0</td>\n",
              "      <td>espoir alloy necklace - buy espoir alloy neckl...</td>\n",
              "    </tr>\n",
              "  </tbody>\n",
              "</table>\n",
              "<p>10 rows × 21 columns</p>\n",
              "</div>\n",
              "    <div class=\"colab-df-buttons\">\n",
              "\n",
              "  <div class=\"colab-df-container\">\n",
              "    <button class=\"colab-df-convert\" onclick=\"convertToInteractive('df-317f3d49-417e-4e8a-b2e5-0a892d948a59')\"\n",
              "            title=\"Convert this dataframe to an interactive table.\"\n",
              "            style=\"display:none;\">\n",
              "\n",
              "  <svg xmlns=\"http://www.w3.org/2000/svg\" height=\"24px\" viewBox=\"0 -960 960 960\">\n",
              "    <path d=\"M120-120v-720h720v720H120Zm60-500h600v-160H180v160Zm220 220h160v-160H400v160Zm0 220h160v-160H400v160ZM180-400h160v-160H180v160Zm440 0h160v-160H620v160ZM180-180h160v-160H180v160Zm440 0h160v-160H620v160Z\"/>\n",
              "  </svg>\n",
              "    </button>\n",
              "\n",
              "  <style>\n",
              "    .colab-df-container {\n",
              "      display:flex;\n",
              "      gap: 12px;\n",
              "    }\n",
              "\n",
              "    .colab-df-convert {\n",
              "      background-color: #E8F0FE;\n",
              "      border: none;\n",
              "      border-radius: 50%;\n",
              "      cursor: pointer;\n",
              "      display: none;\n",
              "      fill: #1967D2;\n",
              "      height: 32px;\n",
              "      padding: 0 0 0 0;\n",
              "      width: 32px;\n",
              "    }\n",
              "\n",
              "    .colab-df-convert:hover {\n",
              "      background-color: #E2EBFA;\n",
              "      box-shadow: 0px 1px 2px rgba(60, 64, 67, 0.3), 0px 1px 3px 1px rgba(60, 64, 67, 0.15);\n",
              "      fill: #174EA6;\n",
              "    }\n",
              "\n",
              "    .colab-df-buttons div {\n",
              "      margin-bottom: 4px;\n",
              "    }\n",
              "\n",
              "    [theme=dark] .colab-df-convert {\n",
              "      background-color: #3B4455;\n",
              "      fill: #D2E3FC;\n",
              "    }\n",
              "\n",
              "    [theme=dark] .colab-df-convert:hover {\n",
              "      background-color: #434B5C;\n",
              "      box-shadow: 0px 1px 3px 1px rgba(0, 0, 0, 0.15);\n",
              "      filter: drop-shadow(0px 1px 2px rgba(0, 0, 0, 0.3));\n",
              "      fill: #FFFFFF;\n",
              "    }\n",
              "  </style>\n",
              "\n",
              "    <script>\n",
              "      const buttonEl =\n",
              "        document.querySelector('#df-317f3d49-417e-4e8a-b2e5-0a892d948a59 button.colab-df-convert');\n",
              "      buttonEl.style.display =\n",
              "        google.colab.kernel.accessAllowed ? 'block' : 'none';\n",
              "\n",
              "      async function convertToInteractive(key) {\n",
              "        const element = document.querySelector('#df-317f3d49-417e-4e8a-b2e5-0a892d948a59');\n",
              "        const dataTable =\n",
              "          await google.colab.kernel.invokeFunction('convertToInteractive',\n",
              "                                                    [key], {});\n",
              "        if (!dataTable) return;\n",
              "\n",
              "        const docLinkHtml = 'Like what you see? Visit the ' +\n",
              "          '<a target=\"_blank\" href=https://colab.research.google.com/notebooks/data_table.ipynb>data table notebook</a>'\n",
              "          + ' to learn more about interactive tables.';\n",
              "        element.innerHTML = '';\n",
              "        dataTable['output_type'] = 'display_data';\n",
              "        await google.colab.output.renderOutput(dataTable, element);\n",
              "        const docLink = document.createElement('div');\n",
              "        docLink.innerHTML = docLinkHtml;\n",
              "        element.appendChild(docLink);\n",
              "      }\n",
              "    </script>\n",
              "  </div>\n",
              "\n",
              "\n",
              "<div id=\"df-31e7ea34-5951-434c-8380-a4474eba0c8f\">\n",
              "  <button class=\"colab-df-quickchart\" onclick=\"quickchart('df-31e7ea34-5951-434c-8380-a4474eba0c8f')\"\n",
              "            title=\"Suggest charts\"\n",
              "            style=\"display:none;\">\n",
              "\n",
              "<svg xmlns=\"http://www.w3.org/2000/svg\" height=\"24px\"viewBox=\"0 0 24 24\"\n",
              "     width=\"24px\">\n",
              "    <g>\n",
              "        <path d=\"M19 3H5c-1.1 0-2 .9-2 2v14c0 1.1.9 2 2 2h14c1.1 0 2-.9 2-2V5c0-1.1-.9-2-2-2zM9 17H7v-7h2v7zm4 0h-2V7h2v10zm4 0h-2v-4h2v4z\"/>\n",
              "    </g>\n",
              "</svg>\n",
              "  </button>\n",
              "\n",
              "<style>\n",
              "  .colab-df-quickchart {\n",
              "      --bg-color: #E8F0FE;\n",
              "      --fill-color: #1967D2;\n",
              "      --hover-bg-color: #E2EBFA;\n",
              "      --hover-fill-color: #174EA6;\n",
              "      --disabled-fill-color: #AAA;\n",
              "      --disabled-bg-color: #DDD;\n",
              "  }\n",
              "\n",
              "  [theme=dark] .colab-df-quickchart {\n",
              "      --bg-color: #3B4455;\n",
              "      --fill-color: #D2E3FC;\n",
              "      --hover-bg-color: #434B5C;\n",
              "      --hover-fill-color: #FFFFFF;\n",
              "      --disabled-bg-color: #3B4455;\n",
              "      --disabled-fill-color: #666;\n",
              "  }\n",
              "\n",
              "  .colab-df-quickchart {\n",
              "    background-color: var(--bg-color);\n",
              "    border: none;\n",
              "    border-radius: 50%;\n",
              "    cursor: pointer;\n",
              "    display: none;\n",
              "    fill: var(--fill-color);\n",
              "    height: 32px;\n",
              "    padding: 0;\n",
              "    width: 32px;\n",
              "  }\n",
              "\n",
              "  .colab-df-quickchart:hover {\n",
              "    background-color: var(--hover-bg-color);\n",
              "    box-shadow: 0 1px 2px rgba(60, 64, 67, 0.3), 0 1px 3px 1px rgba(60, 64, 67, 0.15);\n",
              "    fill: var(--button-hover-fill-color);\n",
              "  }\n",
              "\n",
              "  .colab-df-quickchart-complete:disabled,\n",
              "  .colab-df-quickchart-complete:disabled:hover {\n",
              "    background-color: var(--disabled-bg-color);\n",
              "    fill: var(--disabled-fill-color);\n",
              "    box-shadow: none;\n",
              "  }\n",
              "\n",
              "  .colab-df-spinner {\n",
              "    border: 2px solid var(--fill-color);\n",
              "    border-color: transparent;\n",
              "    border-bottom-color: var(--fill-color);\n",
              "    animation:\n",
              "      spin 1s steps(1) infinite;\n",
              "  }\n",
              "\n",
              "  @keyframes spin {\n",
              "    0% {\n",
              "      border-color: transparent;\n",
              "      border-bottom-color: var(--fill-color);\n",
              "      border-left-color: var(--fill-color);\n",
              "    }\n",
              "    20% {\n",
              "      border-color: transparent;\n",
              "      border-left-color: var(--fill-color);\n",
              "      border-top-color: var(--fill-color);\n",
              "    }\n",
              "    30% {\n",
              "      border-color: transparent;\n",
              "      border-left-color: var(--fill-color);\n",
              "      border-top-color: var(--fill-color);\n",
              "      border-right-color: var(--fill-color);\n",
              "    }\n",
              "    40% {\n",
              "      border-color: transparent;\n",
              "      border-right-color: var(--fill-color);\n",
              "      border-top-color: var(--fill-color);\n",
              "    }\n",
              "    60% {\n",
              "      border-color: transparent;\n",
              "      border-right-color: var(--fill-color);\n",
              "    }\n",
              "    80% {\n",
              "      border-color: transparent;\n",
              "      border-right-color: var(--fill-color);\n",
              "      border-bottom-color: var(--fill-color);\n",
              "    }\n",
              "    90% {\n",
              "      border-color: transparent;\n",
              "      border-bottom-color: var(--fill-color);\n",
              "    }\n",
              "  }\n",
              "</style>\n",
              "\n",
              "  <script>\n",
              "    async function quickchart(key) {\n",
              "      const quickchartButtonEl =\n",
              "        document.querySelector('#' + key + ' button');\n",
              "      quickchartButtonEl.disabled = true;  // To prevent multiple clicks.\n",
              "      quickchartButtonEl.classList.add('colab-df-spinner');\n",
              "      try {\n",
              "        const charts = await google.colab.kernel.invokeFunction(\n",
              "            'suggestCharts', [key], {});\n",
              "      } catch (error) {\n",
              "        console.error('Error during call to suggestCharts:', error);\n",
              "      }\n",
              "      quickchartButtonEl.classList.remove('colab-df-spinner');\n",
              "      quickchartButtonEl.classList.add('colab-df-quickchart-complete');\n",
              "    }\n",
              "    (() => {\n",
              "      let quickchartButtonEl =\n",
              "        document.querySelector('#df-31e7ea34-5951-434c-8380-a4474eba0c8f button');\n",
              "      quickchartButtonEl.style.display =\n",
              "        google.colab.kernel.accessAllowed ? 'block' : 'none';\n",
              "    })();\n",
              "  </script>\n",
              "</div>\n",
              "\n",
              "    </div>\n",
              "  </div>\n"
            ],
            "application/vnd.google.colaboratory.intrinsic+json": {
              "type": "dataframe"
            }
          },
          "metadata": {},
          "execution_count": 224
        }
      ]
    },
    {
      "cell_type": "code",
      "metadata": {
        "colab": {
          "base_uri": "https://localhost:8080/"
        },
        "id": "ehOx80BVc0gb",
        "outputId": "fc6992b6-a3dc-4638-8204-5f7be967aa78"
      },
      "source": [
        "balanced_df.shape"
      ],
      "execution_count": null,
      "outputs": [
        {
          "output_type": "execute_result",
          "data": {
            "text/plain": [
              "(14999, 21)"
            ]
          },
          "metadata": {},
          "execution_count": 225
        }
      ]
    },
    {
      "cell_type": "code",
      "metadata": {
        "colab": {
          "base_uri": "https://localhost:8080/"
        },
        "id": "K5b8wkuuRIkU",
        "outputId": "f9effcb9-c6b2-40b2-c751-b7f65568e47b"
      },
      "source": [
        "#printing all the 13 major categories and the frequency of their products in the dataset\n",
        "Counter(balanced_df['primary_categories'])"
      ],
      "execution_count": null,
      "outputs": [
        {
          "output_type": "execute_result",
          "data": {
            "text/plain": [
              "Counter({'clothing': 5316,\n",
              "         'footwear': 1083,\n",
              "         'toys&schoolsupplies': 535,\n",
              "         'personalaccessories': 684,\n",
              "         'homefurnishing/kitchen': 1324,\n",
              "         'automotive': 937,\n",
              "         'tools&hardware': 379,\n",
              "         'babycare': 224,\n",
              "         'electronics': 1299,\n",
              "         'jewellery': 3218})"
            ]
          },
          "metadata": {},
          "execution_count": 226
        }
      ]
    },
    {
      "cell_type": "markdown",
      "metadata": {
        "id": "E0tUoEpKdFOc"
      },
      "source": [
        "## **Splitting the dataset into Training and Testing Dataframes**\n",
        "\n",
        "The dataset has been split in the initial stages only into training and testing dataframes using the train_test_split function available in sci-kit learn package."
      ]
    },
    {
      "cell_type": "code",
      "metadata": {
        "colab": {
          "base_uri": "https://localhost:8080/"
        },
        "id": "5ZoAhadRXzfv",
        "outputId": "ea97c476-cf6b-4072-958c-f8d70443ef51"
      },
      "source": [
        "#splitting the dataframe into test and training dataframe\n",
        "\n",
        "balanced_df, test_df = train_test_split(balanced_df, test_size=0.1, random_state = 2018)\n",
        "print(balanced_df.shape, test_df.shape)"
      ],
      "execution_count": null,
      "outputs": [
        {
          "output_type": "stream",
          "name": "stdout",
          "text": [
            "(13499, 21) (1500, 21)\n"
          ]
        }
      ]
    },
    {
      "cell_type": "markdown",
      "metadata": {
        "id": "_VomNqt3efg6"
      },
      "source": [
        "### **The GPU provided by Google Colab has been used for Training**"
      ]
    },
    {
      "cell_type": "code",
      "metadata": {
        "colab": {
          "base_uri": "https://localhost:8080/"
        },
        "id": "AfAo3-_FSZ89",
        "outputId": "dae31cd5-7c2e-4338-a86c-461d9d237d43"
      },
      "source": [
        "import torch\n",
        "\n",
        "# If there's a GPU available...\n",
        "if torch.cuda.is_available():\n",
        "    # Tell PyTorch to use the GPU.\n",
        "    device = torch.device(\"cuda\")\n",
        "    print('There are %d GPU(s) available.' % torch.cuda.device_count())\n",
        "    print('We will use the GPU:', torch.cuda.get_device_name(0))\n",
        "\n",
        "# If not...\n",
        "else:\n",
        "    print('No GPU available, using the CPU instead.')\n",
        "    device = torch.device(\"cpu\")"
      ],
      "execution_count": null,
      "outputs": [
        {
          "output_type": "stream",
          "name": "stdout",
          "text": [
            "No GPU available, using the CPU instead.\n"
          ]
        }
      ]
    },
    {
      "cell_type": "markdown",
      "metadata": {
        "id": "o5jBAwbLesjt"
      },
      "source": [
        "## **Encoding the Product Categories**\n",
        "\n",
        "Encoding of the 13 Product Categories is done using LabelEncoder. This is done so because the string categories cannot be directly passed into the model and hence, they have to be represented in a numerical format."
      ]
    },
    {
      "cell_type": "code",
      "metadata": {
        "colab": {
          "base_uri": "https://localhost:8080/"
        },
        "id": "FEar_FZeUo_9",
        "outputId": "599202db-372f-4a13-8a8a-2af9e43019d4"
      },
      "source": [
        "encoder = LabelEncoder()\n",
        "balanced_df['categories']=encoder.fit_transform(balanced_df['primary_categories'])\n",
        "print(Counter(balanced_df['categories']))\n",
        "\n",
        "prediction_decoded = encoder.inverse_transform(balanced_df['categories'])\n",
        "print(Counter(prediction_decoded))"
      ],
      "execution_count": null,
      "outputs": [
        {
          "output_type": "stream",
          "name": "stdout",
          "text": [
            "Counter({2: 4771, 6: 2902, 5: 1173, 3: 1169, 4: 969, 0: 853, 7: 628, 9: 491, 8: 342, 1: 201})\n",
            "Counter({'clothing': 4771, 'jewellery': 2902, 'homefurnishing/kitchen': 1173, 'electronics': 1169, 'footwear': 969, 'automotive': 853, 'personalaccessories': 628, 'toys&schoolsupplies': 491, 'tools&hardware': 342, 'babycare': 201})\n"
          ]
        }
      ]
    },
    {
      "cell_type": "markdown",
      "metadata": {
        "id": "mOTFWmhbVNXU"
      },
      "source": [
        "## **BERT Specific Tokenization & Input Formatting**\n",
        "\n",
        "As BERT model requires some specific tokens and input formattings, BertTokenizer has been installed for the same. In this notebook, we have used the **'uncased'** version."
      ]
    },
    {
      "cell_type": "code",
      "metadata": {
        "colab": {
          "base_uri": "https://localhost:8080/"
        },
        "id": "j4cy5AvSm9sI",
        "outputId": "6bf511ae-5935-4ad2-d7b7-fe3955475f67"
      },
      "source": [
        "#loading the BERT tokenizer\n",
        "from transformers import BertTokenizer\n",
        "\n",
        "print('Loading BERT tokenizer...')\n",
        "tokenizer = BertTokenizer.from_pretrained('bert-base-uncased', do_lower_case=True)"
      ],
      "execution_count": null,
      "outputs": [
        {
          "output_type": "stream",
          "name": "stdout",
          "text": [
            "Loading BERT tokenizer...\n"
          ]
        }
      ]
    },
    {
      "cell_type": "markdown",
      "metadata": {
        "id": "5uxTKLa7fmpl"
      },
      "source": [
        "## **Manipulating the data according to the required Input formatting**\n",
        "\n",
        "The input format required by BERT asks us to add special tokens to the start and end of the sentence, pad and truncate all the sentences to a specific constant length and differentiate the pads from tokens by using attention masks."
      ]
    },
    {
      "cell_type": "markdown",
      "metadata": {
        "id": "wOCkZY_vWJcK"
      },
      "source": [
        "### **To get an idea about the length of the description and its corresponding frequency**\n",
        "\n",
        "As we have to explicitly pad and truncate all the sentences to a fixed constant length, visualisation of the text length of the cleaned and pre processed data is done in order to select a value that is as close to the actual value (so that we do not lose useful information)"
      ]
    },
    {
      "cell_type": "code",
      "source": [
        "desc = balanced_df[\"cleaned_desc\"].tolist()\n",
        "\n",
        "# Handle potential float values in 'desc'\n",
        "seq_len = [len(str(i).split()) if not isinstance(i, float) else 0 for i in desc]\n",
        "pd.Series(seq_len).hist(bins = 30)"
      ],
      "metadata": {
        "colab": {
          "base_uri": "https://localhost:8080/",
          "height": 552
        },
        "id": "xsG-RqNBntWr",
        "outputId": "9af4dd83-1cae-4934-9819-98541cc2aedf"
      },
      "execution_count": null,
      "outputs": [
        {
          "output_type": "execute_result",
          "data": {
            "text/plain": [
              "<Axes: >"
            ]
          },
          "metadata": {},
          "execution_count": 231
        },
        {
          "output_type": "display_data",
          "data": {
            "text/plain": [
              "<Figure size 1200x600 with 1 Axes>"
            ],
            "image/png": "[encoded data removed]"
          },
          "metadata": {}
        }
      ]
    },
    {
      "cell_type": "markdown",
      "metadata": {
        "id": "9XlG2yAGgjCi"
      },
      "source": [
        "From the above graph, we can see that most of the description lengths are less than 100 words. **Hence, the MAX_LEN has been chosen to be 128**."
      ]
    },
    {
      "cell_type": "markdown",
      "metadata": {
        "id": "xKTv9T-jg4dG"
      },
      "source": [
        "## **Data Formatting and Training of the BERT Model**\n",
        "\n",
        "In the following code snippets, the training data has been first prepared according to BERT's requirements and then split into training and validation sets. The model is then trained and validated and finally tested on the testing dataframe that was made earlier."
      ]
    },
    {
      "cell_type": "markdown",
      "metadata": {
        "id": "gRMsSXuKYZ99"
      },
      "source": [
        "### 1. Mapping the sentences to their Word IDs\n",
        "\n",
        "In the following code snippet, with the help of **tokenizer.encode()** function splits the sentences into tokens and adds the special tokens to the start and end of the tokens and finally maps them to their corresponding word IDS."
      ]
    },
    {
      "cell_type": "code",
      "source": [
        "#tokenization of all the sentences followed by the mapping of the tokens to their word ids\n",
        "tokenized_inputs = []\n",
        "tokenized_len = []\n",
        "input_data = balanced_df[\"cleaned_desc\"].tolist()\n",
        "\n",
        "for sentence in input_data:\n",
        "  '''\n",
        "    tokenizer.encode does the following:\n",
        "    1. tokenizes the sentences\n",
        "    2. adds [CLS] to the start of the tokens and [SEP] to the end of the tokens\n",
        "    3. Maps the tokens to their word IDS\n",
        "  '''\n",
        "  # Handle potential NaN values and other non-string types\n",
        "  if isinstance(sentence, str):\n",
        "    encoded_sentence = tokenizer.encode(sentence, add_special_tokens=True)\n",
        "    tokenized_inputs.append(encoded_sentence)\n",
        "    tokenized_len.append(len(encoded_sentence))\n",
        "  else:\n",
        "    # Handle NaN or non-string values by appending an empty list (or another suitable default)\n",
        "    tokenized_inputs.append([])  # Replace [] with a suitable default if needed\n",
        "    tokenized_len.append(0)\n",
        "    print(f\"Skipping non-string value: {sentence}\")\n",
        "\n",
        "balanced_df[\"Token_ids\"] = tokenized_inputs"
      ],
      "metadata": {
        "colab": {
          "base_uri": "https://localhost:8080/"
        },
        "id": "dNCdR1hzvMaU",
        "outputId": "f17ebf7e-ae1c-483b-e757-6fa562a22fb6"
      },
      "execution_count": null,
      "outputs": [
        {
          "output_type": "stream",
          "name": "stderr",
          "text": [
            "Token indices sequence length is longer than the specified maximum sequence length for this model (558 > 512). Running this sequence through the model will result in indexing errors\n"
          ]
        },
        {
          "output_type": "stream",
          "name": "stdout",
          "text": [
            "Skipping non-string value: nan\n"
          ]
        }
      ]
    },
    {
      "cell_type": "markdown",
      "metadata": {
        "id": "eeIrIsockfkE"
      },
      "source": [
        "The following Seaborn plot helps us in visualising the distribution of token lengths across the entire corpus."
      ]
    },
    {
      "cell_type": "code",
      "metadata": {
        "colab": {
          "base_uri": "https://localhost:8080/",
          "height": 564
        },
        "id": "tx7Lk2moMt_p",
        "outputId": "bf8b0df2-5b84-4ad7-c352-3db4f4069d5c"
      },
      "source": [
        "sns.distplot(tokenized_len)\n",
        "plt.xlabel('Token count');"
      ],
      "execution_count": null,
      "outputs": [
        {
          "output_type": "display_data",
          "data": {
            "text/plain": [
              "<Figure size 1200x600 with 1 Axes>"
            ],
            "image/png": "[encoded data removed]"
          },
          "metadata": {}
        }
      ]
    },
    {
      "cell_type": "markdown",
      "metadata": {
        "id": "PaB-OGnhYepB"
      },
      "source": [
        "### 2. Padding and Truncating the Word IDs and creating Attention Masks\n",
        "\n",
        "As the tokenizer.encode() function does not handle padding, it is handled separately using pad_sequence and thus, the tokens are then truncated to a MAX_LEN of 128 that was chosen above. Finally, to separate the paddings from the tokens attention masks are created."
      ]
    },
    {
      "cell_type": "code",
      "metadata": {
        "id": "Gk07sMHxYhCu"
      },
      "source": [
        "# from the above, we can see that most of the sentences are below 200 -> choosing a max_len of 128\n",
        "max_len = 128\n",
        "#padding and truncating the sentences according to the maximum length\n",
        "tokenized_inputs = pad_sequences(balanced_df[\"Token_ids\"], maxlen=max_len, dtype=\"long\",value=0, truncating=\"post\", padding=\"post\")\n",
        "\n",
        "#creating the attention masks\n",
        "attention_mask = []\n",
        "\n",
        "for sentence in tokenized_inputs:\n",
        "  temp_mask = [int(token_id>0) for token_id in sentence]\n",
        "  attention_mask.append(temp_mask)"
      ],
      "execution_count": null,
      "outputs": []
    },
    {
      "cell_type": "markdown",
      "metadata": {
        "id": "tJAIR4DsaXzq"
      },
      "source": [
        "### 3. Splitting the dataset into training and validation set\n",
        "\n",
        "The input descriptions, labels and attention masks are then converted into PyTorch tensors. Then these are split into training and validation sets for training the model and testing it. Then for the training and validation sets, dataloaders are created."
      ]
    },
    {
      "cell_type": "code",
      "metadata": {
        "colab": {
          "base_uri": "https://localhost:8080/"
        },
        "id": "AFj2_EW_aJ9u",
        "outputId": "fb6e7bf8-d138-47c4-fcf9-db850c626907"
      },
      "source": [
        "description_inputs = torch.tensor(tokenized_inputs)\n",
        "category_labels = torch.tensor(balanced_df[\"categories\"].values)\n",
        "mask = torch.tensor(attention_mask)\n",
        "\n",
        "print(description_inputs.shape, category_labels.shape, mask.shape)\n",
        "\n",
        "#splitting the dataset and attention masks\n",
        "training_dataset, validation_dataset, training_categories, validation_categories = train_test_split(description_inputs,\n",
        "                                                                                                    category_labels,\n",
        "                                                                                                    random_state = 42,\n",
        "                                                                                                    test_size = 0.15,\n",
        "                                                                                                    shuffle=True)\n",
        "\n",
        "training_mask, validation_mask, _, _ = train_test_split(mask,\n",
        "                                                        category_labels,\n",
        "                                                        random_state = 42,\n",
        "                                                        test_size = 0.15,\n",
        "                                                        shuffle=True)"
      ],
      "execution_count": null,
      "outputs": [
        {
          "output_type": "stream",
          "name": "stdout",
          "text": [
            "torch.Size([13499, 128]) torch.Size([13499]) torch.Size([13499, 128])\n"
          ]
        }
      ]
    },
    {
      "cell_type": "code",
      "metadata": {
        "id": "eBPS2e9KbC_r"
      },
      "source": [
        "from torch.utils.data import TensorDataset, DataLoader, RandomSampler, SequentialSampler\n",
        "\n",
        "#barch size has been chosen to be 16 as a batch size of 32 gave out of memory errors (limitation)\n",
        "BATCH_SIZE = 16\n",
        "\n",
        "# creating the dataloader for the training dataset\n",
        "training_data = TensorDataset(training_dataset, training_mask, training_categories)\n",
        "training_dataloader = DataLoader(training_data, sampler=RandomSampler(training_data), batch_size=BATCH_SIZE)\n",
        "\n",
        "# creating the dataloader for the validation dataset\n",
        "validation_data = TensorDataset(validation_dataset, validation_mask, validation_categories)\n",
        "validation_dataloader = DataLoader(validation_data, sampler=SequentialSampler(validation_data), batch_size=BATCH_SIZE)"
      ],
      "execution_count": null,
      "outputs": []
    },
    {
      "cell_type": "markdown",
      "metadata": {
        "id": "LywHNrdiftUb"
      },
      "source": [
        "### 4. Training the Multiclass Classification Model\n",
        "\n",
        "For training our model we have modified the pre-trained BERT model to perform Multiclass Classification. We are using BertForSequenceClassification model and the \"bert-base-uncased\" model variant for the same. AdamW Optimizer has been used and the following hyperparameters are used for fine-tuning:\n",
        "\n",
        "1. Number of epochs: 4\n",
        "2. Learning Rate: 3e-5\n",
        "3. BATCH_SIZE was chosen to be 32 while creating the DataLoaders"
      ]
    },
    {
      "cell_type": "code",
      "source": [
        "from transformers import BertForSequenceClassification, AdamW, BertConfig\n",
        "from transformers import get_linear_schedule_with_warmup\n",
        "\n",
        "# choosing the model version that has only lowercase characters and is the smaller one out the two versions\n",
        "option_name = \"bert-base-uncased\"\n",
        "\n",
        "model = BertForSequenceClassification.from_pretrained(option_name,\n",
        "                                                      num_labels = 13,\n",
        "                                                      output_attentions = False,\n",
        "                                                      output_hidden_states = False)\n",
        "model.cuda()\n",
        "\n",
        "#optimzer: object that actually performs updates to our weights\n",
        "optimizer = AdamW(model.parameters(),\n",
        "                  lr = 3e-5,\n",
        "                  eps = 1e-8)\n",
        "\n",
        "# number of training epochs\n",
        "epochs = 4"
      ],
      "metadata": {
        "colab": {
          "base_uri": "https://localhost:8080/",
          "height": 391
        },
        "id": "BNQE2WyX8Qhw",
        "outputId": "78d69ccc-6967-4aa8-aff2-34bf98ff2fed"
      },
      "execution_count": null,
      "outputs": [
        {
          "output_type": "stream",
          "name": "stderr",
          "text": [
            "Some weights of BertForSequenceClassification were not initialized from the model checkpoint at bert-base-uncased and are newly initialized: ['classifier.bias', 'classifier.weight']\n",
            "You should probably TRAIN this model on a down-stream task to be able to use it for predictions and inference.\n"
          ]
        },
        {
          "output_type": "error",
          "ename": "RuntimeError",
          "evalue": "Found no NVIDIA driver on your system. Please check that you have an NVIDIA GPU and installed a driver from http://www.nvidia.com/Download/index.aspx",
          "traceback": [
            "\u001b[0;31m---------------------------------------------------------------------------\u001b[0m",
            "\u001b[0;31mRuntimeError\u001b[0m                              Traceback (most recent call last)",
            "\u001b[0;32m<ipython-input-237-b210e23eafa5>\u001b[0m in \u001b[0;36m<cell line: 11>\u001b[0;34m()\u001b[0m\n\u001b[1;32m      9\u001b[0m                                                       \u001b[0moutput_attentions\u001b[0m \u001b[0;34m=\u001b[0m \u001b[0;32mFalse\u001b[0m\u001b[0;34m,\u001b[0m\u001b[0;34m\u001b[0m\u001b[0;34m\u001b[0m\u001b[0m\n\u001b[1;32m     10\u001b[0m                                                       output_hidden_states = False)\n\u001b[0;32m---> 11\u001b[0;31m \u001b[0mmodel\u001b[0m\u001b[0;34m.\u001b[0m\u001b[0mcuda\u001b[0m\u001b[0;34m(\u001b[0m\u001b[0;34m)\u001b[0m\u001b[0;34m\u001b[0m\u001b[0;34m\u001b[0m\u001b[0m\n\u001b[0m\u001b[1;32m     12\u001b[0m \u001b[0;34m\u001b[0m\u001b[0m\n\u001b[1;32m     13\u001b[0m \u001b[0;31m#optimzer: object that actually performs updates to our weights\u001b[0m\u001b[0;34m\u001b[0m\u001b[0;34m\u001b[0m\u001b[0m\n",
            "\u001b[0;32m/usr/local/lib/python3.10/dist-packages/transformers/modeling_utils.py\u001b[0m in \u001b[0;36mcuda\u001b[0;34m(self, *args, **kwargs)\u001b[0m\n\u001b[1;32m   2764\u001b[0m             )\n\u001b[1;32m   2765\u001b[0m         \u001b[0;32melse\u001b[0m\u001b[0;34m:\u001b[0m\u001b[0;34m\u001b[0m\u001b[0;34m\u001b[0m\u001b[0m\n\u001b[0;32m-> 2766\u001b[0;31m             \u001b[0;32mreturn\u001b[0m \u001b[0msuper\u001b[0m\u001b[0;34m(\u001b[0m\u001b[0;34m)\u001b[0m\u001b[0;34m.\u001b[0m\u001b[0mcuda\u001b[0m\u001b[0;34m(\u001b[0m\u001b[0;34m*\u001b[0m\u001b[0margs\u001b[0m\u001b[0;34m,\u001b[0m \u001b[0;34m**\u001b[0m\u001b[0mkwargs\u001b[0m\u001b[0;34m)\u001b[0m\u001b[0;34m\u001b[0m\u001b[0;34m\u001b[0m\u001b[0m\n\u001b[0m\u001b[1;32m   2767\u001b[0m \u001b[0;34m\u001b[0m\u001b[0m\n\u001b[1;32m   2768\u001b[0m     \u001b[0;34m@\u001b[0m\u001b[0mwraps\u001b[0m\u001b[0;34m(\u001b[0m\u001b[0mtorch\u001b[0m\u001b[0;34m.\u001b[0m\u001b[0mnn\u001b[0m\u001b[0;34m.\u001b[0m\u001b[0mModule\u001b[0m\u001b[0;34m.\u001b[0m\u001b[0mto\u001b[0m\u001b[0;34m)\u001b[0m\u001b[0;34m\u001b[0m\u001b[0;34m\u001b[0m\u001b[0m\n",
            "\u001b[0;32m/usr/local/lib/python3.10/dist-packages/torch/nn/modules/module.py\u001b[0m in \u001b[0;36mcuda\u001b[0;34m(self, device)\u001b[0m\n\u001b[1;32m    913\u001b[0m             \u001b[0mModule\u001b[0m\u001b[0;34m:\u001b[0m \u001b[0mself\u001b[0m\u001b[0;34m\u001b[0m\u001b[0;34m\u001b[0m\u001b[0m\n\u001b[1;32m    914\u001b[0m         \"\"\"\n\u001b[0;32m--> 915\u001b[0;31m         \u001b[0;32mreturn\u001b[0m \u001b[0mself\u001b[0m\u001b[0;34m.\u001b[0m\u001b[0m_apply\u001b[0m\u001b[0;34m(\u001b[0m\u001b[0;32mlambda\u001b[0m \u001b[0mt\u001b[0m\u001b[0;34m:\u001b[0m \u001b[0mt\u001b[0m\u001b[0;34m.\u001b[0m\u001b[0mcuda\u001b[0m\u001b[0;34m(\u001b[0m\u001b[0mdevice\u001b[0m\u001b[0;34m)\u001b[0m\u001b[0;34m)\u001b[0m\u001b[0;34m\u001b[0m\u001b[0;34m\u001b[0m\u001b[0m\n\u001b[0m\u001b[1;32m    916\u001b[0m \u001b[0;34m\u001b[0m\u001b[0m\n\u001b[1;32m    917\u001b[0m     \u001b[0;32mdef\u001b[0m \u001b[0mipu\u001b[0m\u001b[0;34m(\u001b[0m\u001b[0mself\u001b[0m\u001b[0;34m:\u001b[0m \u001b[0mT\u001b[0m\u001b[0;34m,\u001b[0m \u001b[0mdevice\u001b[0m\u001b[0;34m:\u001b[0m \u001b[0mOptional\u001b[0m\u001b[0;34m[\u001b[0m\u001b[0mUnion\u001b[0m\u001b[0;34m[\u001b[0m\u001b[0mint\u001b[0m\u001b[0;34m,\u001b[0m \u001b[0mdevice\u001b[0m\u001b[0;34m]\u001b[0m\u001b[0;34m]\u001b[0m \u001b[0;34m=\u001b[0m \u001b[0;32mNone\u001b[0m\u001b[0;34m)\u001b[0m \u001b[0;34m->\u001b[0m \u001b[0mT\u001b[0m\u001b[0;34m:\u001b[0m\u001b[0;34m\u001b[0m\u001b[0;34m\u001b[0m\u001b[0m\n",
            "\u001b[0;32m/usr/local/lib/python3.10/dist-packages/torch/nn/modules/module.py\u001b[0m in \u001b[0;36m_apply\u001b[0;34m(self, fn, recurse)\u001b[0m\n\u001b[1;32m    777\u001b[0m         \u001b[0;32mif\u001b[0m \u001b[0mrecurse\u001b[0m\u001b[0;34m:\u001b[0m\u001b[0;34m\u001b[0m\u001b[0;34m\u001b[0m\u001b[0m\n\u001b[1;32m    778\u001b[0m             \u001b[0;32mfor\u001b[0m \u001b[0mmodule\u001b[0m \u001b[0;32min\u001b[0m \u001b[0mself\u001b[0m\u001b[0;34m.\u001b[0m\u001b[0mchildren\u001b[0m\u001b[0;34m(\u001b[0m\u001b[0;34m)\u001b[0m\u001b[0;34m:\u001b[0m\u001b[0;34m\u001b[0m\u001b[0;34m\u001b[0m\u001b[0m\n\u001b[0;32m--> 779\u001b[0;31m                 \u001b[0mmodule\u001b[0m\u001b[0;34m.\u001b[0m\u001b[0m_apply\u001b[0m\u001b[0;34m(\u001b[0m\u001b[0mfn\u001b[0m\u001b[0;34m)\u001b[0m\u001b[0;34m\u001b[0m\u001b[0;34m\u001b[0m\u001b[0m\n\u001b[0m\u001b[1;32m    780\u001b[0m \u001b[0;34m\u001b[0m\u001b[0m\n\u001b[1;32m    781\u001b[0m         \u001b[0;32mdef\u001b[0m \u001b[0mcompute_should_use_set_data\u001b[0m\u001b[0;34m(\u001b[0m\u001b[0mtensor\u001b[0m\u001b[0;34m,\u001b[0m \u001b[0mtensor_applied\u001b[0m\u001b[0;34m)\u001b[0m\u001b[0;34m:\u001b[0m\u001b[0;34m\u001b[0m\u001b[0;34m\u001b[0m\u001b[0m\n",
            "\u001b[0;32m/usr/local/lib/python3.10/dist-packages/torch/nn/modules/module.py\u001b[0m in \u001b[0;36m_apply\u001b[0;34m(self, fn, recurse)\u001b[0m\n\u001b[1;32m    777\u001b[0m         \u001b[0;32mif\u001b[0m \u001b[0mrecurse\u001b[0m\u001b[0;34m:\u001b[0m\u001b[0;34m\u001b[0m\u001b[0;34m\u001b[0m\u001b[0m\n\u001b[1;32m    778\u001b[0m             \u001b[0;32mfor\u001b[0m \u001b[0mmodule\u001b[0m \u001b[0;32min\u001b[0m \u001b[0mself\u001b[0m\u001b[0;34m.\u001b[0m\u001b[0mchildren\u001b[0m\u001b[0;34m(\u001b[0m\u001b[0;34m)\u001b[0m\u001b[0;34m:\u001b[0m\u001b[0;34m\u001b[0m\u001b[0;34m\u001b[0m\u001b[0m\n\u001b[0;32m--> 779\u001b[0;31m                 \u001b[0mmodule\u001b[0m\u001b[0;34m.\u001b[0m\u001b[0m_apply\u001b[0m\u001b[0;34m(\u001b[0m\u001b[0mfn\u001b[0m\u001b[0;34m)\u001b[0m\u001b[0;34m\u001b[0m\u001b[0;34m\u001b[0m\u001b[0m\n\u001b[0m\u001b[1;32m    780\u001b[0m \u001b[0;34m\u001b[0m\u001b[0m\n\u001b[1;32m    781\u001b[0m         \u001b[0;32mdef\u001b[0m \u001b[0mcompute_should_use_set_data\u001b[0m\u001b[0;34m(\u001b[0m\u001b[0mtensor\u001b[0m\u001b[0;34m,\u001b[0m \u001b[0mtensor_applied\u001b[0m\u001b[0;34m)\u001b[0m\u001b[0;34m:\u001b[0m\u001b[0;34m\u001b[0m\u001b[0;34m\u001b[0m\u001b[0m\n",
            "\u001b[0;32m/usr/local/lib/python3.10/dist-packages/torch/nn/modules/module.py\u001b[0m in \u001b[0;36m_apply\u001b[0;34m(self, fn, recurse)\u001b[0m\n\u001b[1;32m    777\u001b[0m         \u001b[0;32mif\u001b[0m \u001b[0mrecurse\u001b[0m\u001b[0;34m:\u001b[0m\u001b[0;34m\u001b[0m\u001b[0;34m\u001b[0m\u001b[0m\n\u001b[1;32m    778\u001b[0m             \u001b[0;32mfor\u001b[0m \u001b[0mmodule\u001b[0m \u001b[0;32min\u001b[0m \u001b[0mself\u001b[0m\u001b[0;34m.\u001b[0m\u001b[0mchildren\u001b[0m\u001b[0;34m(\u001b[0m\u001b[0;34m)\u001b[0m\u001b[0;34m:\u001b[0m\u001b[0;34m\u001b[0m\u001b[0;34m\u001b[0m\u001b[0m\n\u001b[0;32m--> 779\u001b[0;31m                 \u001b[0mmodule\u001b[0m\u001b[0;34m.\u001b[0m\u001b[0m_apply\u001b[0m\u001b[0;34m(\u001b[0m\u001b[0mfn\u001b[0m\u001b[0;34m)\u001b[0m\u001b[0;34m\u001b[0m\u001b[0;34m\u001b[0m\u001b[0m\n\u001b[0m\u001b[1;32m    780\u001b[0m \u001b[0;34m\u001b[0m\u001b[0m\n\u001b[1;32m    781\u001b[0m         \u001b[0;32mdef\u001b[0m \u001b[0mcompute_should_use_set_data\u001b[0m\u001b[0;34m(\u001b[0m\u001b[0mtensor\u001b[0m\u001b[0;34m,\u001b[0m \u001b[0mtensor_applied\u001b[0m\u001b[0;34m)\u001b[0m\u001b[0;34m:\u001b[0m\u001b[0;34m\u001b[0m\u001b[0;34m\u001b[0m\u001b[0m\n",
            "\u001b[0;32m/usr/local/lib/python3.10/dist-packages/torch/nn/modules/module.py\u001b[0m in \u001b[0;36m_apply\u001b[0;34m(self, fn, recurse)\u001b[0m\n\u001b[1;32m    802\u001b[0m             \u001b[0;31m# `with torch.no_grad():`\u001b[0m\u001b[0;34m\u001b[0m\u001b[0;34m\u001b[0m\u001b[0m\n\u001b[1;32m    803\u001b[0m             \u001b[0;32mwith\u001b[0m \u001b[0mtorch\u001b[0m\u001b[0;34m.\u001b[0m\u001b[0mno_grad\u001b[0m\u001b[0;34m(\u001b[0m\u001b[0;34m)\u001b[0m\u001b[0;34m:\u001b[0m\u001b[0;34m\u001b[0m\u001b[0;34m\u001b[0m\u001b[0m\n\u001b[0;32m--> 804\u001b[0;31m                 \u001b[0mparam_applied\u001b[0m \u001b[0;34m=\u001b[0m \u001b[0mfn\u001b[0m\u001b[0;34m(\u001b[0m\u001b[0mparam\u001b[0m\u001b[0;34m)\u001b[0m\u001b[0;34m\u001b[0m\u001b[0;34m\u001b[0m\u001b[0m\n\u001b[0m\u001b[1;32m    805\u001b[0m             \u001b[0mp_should_use_set_data\u001b[0m \u001b[0;34m=\u001b[0m \u001b[0mcompute_should_use_set_data\u001b[0m\u001b[0;34m(\u001b[0m\u001b[0mparam\u001b[0m\u001b[0;34m,\u001b[0m \u001b[0mparam_applied\u001b[0m\u001b[0;34m)\u001b[0m\u001b[0;34m\u001b[0m\u001b[0;34m\u001b[0m\u001b[0m\n\u001b[1;32m    806\u001b[0m \u001b[0;34m\u001b[0m\u001b[0m\n",
            "\u001b[0;32m/usr/local/lib/python3.10/dist-packages/torch/nn/modules/module.py\u001b[0m in \u001b[0;36m<lambda>\u001b[0;34m(t)\u001b[0m\n\u001b[1;32m    913\u001b[0m             \u001b[0mModule\u001b[0m\u001b[0;34m:\u001b[0m \u001b[0mself\u001b[0m\u001b[0;34m\u001b[0m\u001b[0;34m\u001b[0m\u001b[0m\n\u001b[1;32m    914\u001b[0m         \"\"\"\n\u001b[0;32m--> 915\u001b[0;31m         \u001b[0;32mreturn\u001b[0m \u001b[0mself\u001b[0m\u001b[0;34m.\u001b[0m\u001b[0m_apply\u001b[0m\u001b[0;34m(\u001b[0m\u001b[0;32mlambda\u001b[0m \u001b[0mt\u001b[0m\u001b[0;34m:\u001b[0m \u001b[0mt\u001b[0m\u001b[0;34m.\u001b[0m\u001b[0mcuda\u001b[0m\u001b[0;34m(\u001b[0m\u001b[0mdevice\u001b[0m\u001b[0;34m)\u001b[0m\u001b[0;34m)\u001b[0m\u001b[0;34m\u001b[0m\u001b[0;34m\u001b[0m\u001b[0m\n\u001b[0m\u001b[1;32m    916\u001b[0m \u001b[0;34m\u001b[0m\u001b[0m\n\u001b[1;32m    917\u001b[0m     \u001b[0;32mdef\u001b[0m \u001b[0mipu\u001b[0m\u001b[0;34m(\u001b[0m\u001b[0mself\u001b[0m\u001b[0;34m:\u001b[0m \u001b[0mT\u001b[0m\u001b[0;34m,\u001b[0m \u001b[0mdevice\u001b[0m\u001b[0;34m:\u001b[0m \u001b[0mOptional\u001b[0m\u001b[0;34m[\u001b[0m\u001b[0mUnion\u001b[0m\u001b[0;34m[\u001b[0m\u001b[0mint\u001b[0m\u001b[0;34m,\u001b[0m \u001b[0mdevice\u001b[0m\u001b[0;34m]\u001b[0m\u001b[0;34m]\u001b[0m \u001b[0;34m=\u001b[0m \u001b[0;32mNone\u001b[0m\u001b[0;34m)\u001b[0m \u001b[0;34m->\u001b[0m \u001b[0mT\u001b[0m\u001b[0;34m:\u001b[0m\u001b[0;34m\u001b[0m\u001b[0;34m\u001b[0m\u001b[0m\n",
            "\u001b[0;32m/usr/local/lib/python3.10/dist-packages/torch/cuda/__init__.py\u001b[0m in \u001b[0;36m_lazy_init\u001b[0;34m()\u001b[0m\n\u001b[1;32m    291\u001b[0m         \u001b[0;32mif\u001b[0m \u001b[0;34m\"CUDA_MODULE_LOADING\"\u001b[0m \u001b[0;32mnot\u001b[0m \u001b[0;32min\u001b[0m \u001b[0mos\u001b[0m\u001b[0;34m.\u001b[0m\u001b[0menviron\u001b[0m\u001b[0;34m:\u001b[0m\u001b[0;34m\u001b[0m\u001b[0;34m\u001b[0m\u001b[0m\n\u001b[1;32m    292\u001b[0m             \u001b[0mos\u001b[0m\u001b[0;34m.\u001b[0m\u001b[0menviron\u001b[0m\u001b[0;34m[\u001b[0m\u001b[0;34m\"CUDA_MODULE_LOADING\"\u001b[0m\u001b[0;34m]\u001b[0m \u001b[0;34m=\u001b[0m \u001b[0;34m\"LAZY\"\u001b[0m\u001b[0;34m\u001b[0m\u001b[0;34m\u001b[0m\u001b[0m\n\u001b[0;32m--> 293\u001b[0;31m         \u001b[0mtorch\u001b[0m\u001b[0;34m.\u001b[0m\u001b[0m_C\u001b[0m\u001b[0;34m.\u001b[0m\u001b[0m_cuda_init\u001b[0m\u001b[0;34m(\u001b[0m\u001b[0;34m)\u001b[0m\u001b[0;34m\u001b[0m\u001b[0;34m\u001b[0m\u001b[0m\n\u001b[0m\u001b[1;32m    294\u001b[0m         \u001b[0;31m# Some of the queued calls may reentrantly call _lazy_init();\u001b[0m\u001b[0;34m\u001b[0m\u001b[0;34m\u001b[0m\u001b[0m\n\u001b[1;32m    295\u001b[0m         \u001b[0;31m# we need to just return without initializing in that case.\u001b[0m\u001b[0;34m\u001b[0m\u001b[0;34m\u001b[0m\u001b[0m\n",
            "\u001b[0;31mRuntimeError\u001b[0m: Found no NVIDIA driver on your system. Please check that you have an NVIDIA GPU and installed a driver from http://www.nvidia.com/Download/index.aspx"
          ]
        }
      ]
    },
    {
      "cell_type": "code",
      "metadata": {
        "id": "kk5slTXxgXtJ"
      },
      "source": [
        "#HELPER FUNCTIONS\n",
        "\n",
        "# this function takes time in seconds and returns a string hh:mm:ss\n",
        "def format_time(elapsed):\n",
        "    # Round to the nearest second.\n",
        "    elapsed_rounded = int(round((elapsed)))\n",
        "\n",
        "    # Format as hh:mm:ss\n",
        "    return str(datetime.timedelta(seconds=elapsed_rounded))\n",
        "\n",
        "# this function calculates the accuracy by taking in the predicted and actual labels as parameters\n",
        "def flat_accuracy(preds, labels):\n",
        "    pred_flat = np.argmax(preds, axis=1).flatten()\n",
        "    labels_flat = labels.flatten()\n",
        "    return np.sum(pred_flat == labels_flat) / len(labels_flat)"
      ],
      "execution_count": null,
      "outputs": []
    },
    {
      "cell_type": "code",
      "source": [
        "import torch\n",
        "from torch.utils.data import TensorDataset, DataLoader, RandomSampler, SequentialSampler\n",
        "from transformers import BertForSequenceClassification, AdamW, BertConfig\n",
        "import random\n",
        "import numpy as np\n",
        "import timeit\n",
        "import datetime\n",
        "\n",
        "# Assuming you have defined training_dataset, training_mask, training_categories,\n",
        "# validation_dataset, validation_mask, and validation_categories in previous cells\n",
        "\n",
        "# Batch size\n",
        "BATCH_SIZE = 16\n",
        "\n",
        "# Creating dataloaders\n",
        "training_data = TensorDataset(training_dataset, training_mask, training_categories)\n",
        "training_dataloader = DataLoader(training_data, sampler=RandomSampler(training_data), batch_size=BATCH_SIZE)\n",
        "\n",
        "validation_data = TensorDataset(validation_dataset, validation_mask, validation_categories)\n",
        "validation_dataloader = DataLoader(validation_data, sampler=SequentialSampler(validation_data), batch_size=BATCH_SIZE)\n",
        "\n",
        "# Model and optimizer\n",
        "option_name = \"bert-base-uncased\"\n",
        "model = BertForSequenceClassification.from_pretrained(option_name,\n",
        "                                                      num_labels=13,\n",
        "                                                      output_attentions=False,\n",
        "                                                      output_hidden_states=False)\n",
        "model.cuda()\n",
        "\n",
        "optimizer = AdamW(model.parameters(),\n",
        "                  lr=3e-5,\n",
        "                  eps=1e-8)\n",
        "\n",
        "# Number of training epochs\n",
        "epochs = 4\n",
        "\n",
        "# Helper functions\n",
        "def format_time(elapsed):\n",
        "    elapsed_rounded = int(round((elapsed)))\n",
        "    return str(datetime.timedelta(seconds=elapsed_rounded))\n",
        "\n",
        "def flat_accuracy(preds, labels):\n",
        "    pred_flat = np.argmax(preds, axis=1).flatten()\n",
        "    labels_flat = labels.flatten()\n",
        "    return np.sum(pred_flat == labels_flat) / len(labels_flat)\n",
        "\n",
        "# Training loop\n",
        "def train_model(model, optimizer, train_loader, valid_loader, num_epochs, eval_every):\n",
        "    seed_val = 42\n",
        "    random.seed(seed_val)\n",
        "    np.random.seed(seed_val)\n",
        "    torch.manual_seed(seed_val)\n",
        "    torch.cuda.manual_seed_all(seed_val)\n",
        "\n",
        "    train_loss_list = []\n",
        "    valid_loss_list = []\n",
        "    running_loss = 0.0\n",
        "    valid_loss = 0.0\n",
        "\n",
        "    device = torch.device(\"cuda\" if torch.cuda.is_available() else \"cpu\")\n",
        "\n",
        "    for each_epoch in range(num_epochs):\n",
        "        print('\\n')\n",
        "        print(\"*************** Epoch {:}/{:} ***************\".format(each_epoch+1, num_epochs))\n",
        "        print(\"Training....\")\n",
        "\n",
        "        start = timeit.default_timer()\n",
        "        running_loss = 0.0\n",
        "        model.train()\n",
        "\n",
        "        for step, (input_desc_ids, input_mask, input_label) in enumerate(train_loader):\n",
        "            if step % eval_every == 0 and step != 0:\n",
        "                stop = timeit.default_timer()\n",
        "                time_elapsed = format_time(stop - start)\n",
        "                print('  Batch {:>5,}  of  {:>5,}.    Elapsed: {:}.'.format(step, len(train_loader), time_elapsed))\n",
        "\n",
        "            input_desc_ids = input_desc_ids.to(device)\n",
        "            input_mask = input_mask.to(device)\n",
        "            input_label = input_label.to(device)\n",
        "            model.zero_grad()\n",
        "\n",
        "            outputs = model(input_desc_ids,\n",
        "                            token_type_ids=None,\n",
        "                            attention_mask=input_mask,\n",
        "                            labels=input_label)\n",
        "\n",
        "            loss = outputs.loss\n",
        "            running_loss += loss.item()\n",
        "            loss.backward()\n",
        "            torch.nn.utils.clip_grad_norm_(model.parameters(), 1.0)\n",
        "            optimizer.step()\n",
        "\n",
        "        average_train_loss = running_loss / len(train_loader)\n",
        "        train_loss_list.append(average_train_loss)\n",
        "\n",
        "        print('\\n')\n",
        "        print(\"  Average training loss: {0:.2f}\".format(average_train_loss))\n",
        "\n",
        "        print(\"\\n\")\n",
        "        print(\"Validating....\")\n",
        "\n",
        "        start = timeit.default_timer()\n",
        "        model.eval()\n",
        "\n",
        "        valid_accuracy = 0.0\n",
        "        steps_eval = 0\n",
        "\n",
        "        for (input_ids, input_masks, input_labels) in valid_loader:\n",
        "            input_ids = input_ids.to(device)\n",
        "            input_masks = input_masks.to(device)\n",
        "            input_labels = input_labels.to(device)\n",
        "\n",
        "            with torch.no_grad():\n",
        "                outputs = model(input_ids,\n",
        "                                token_type_ids=None,\n",
        "                                attention_mask=input_masks)\n",
        "\n",
        "            logits = outputs.logits.detach().cpu().numpy()\n",
        "            label_ids = input_labels.to('cpu').numpy()\n",
        "\n",
        "            temp_accuracy = flat_accuracy(logits, label_ids)\n",
        "            valid_accuracy += temp_accuracy\n",
        "            steps_eval += 1\n",
        "\n",
        "        average_valid_accuracy = valid_accuracy / steps_eval\n",
        "        valid_loss_list.append(average_valid_accuracy)\n",
        "\n",
        "        print(\"  Accuracy: {0:.2f}\".format(average_valid_accuracy))\n",
        "        print(\"  Validation took: {:}\".format(format_time(timeit.default_timer() - start)))\n",
        "\n",
        "    print(\"\\n\")\n",
        "    print(\"Training complete!!!\")\n",
        "\n",
        "    return train_loss_list, valid_loss_list\n",
        "\n",
        "# Train the Model\n",
        "train_loss_list, valid_loss_list = train_model(model=model,\n",
        "                                               optimizer=optimizer,\n",
        "                                               train_loader=training_dataloader,\n",
        "                                               valid_loader=validation_dataloader,\n",
        "                                               num_epochs=epochs,\n",
        "                                               eval_every=len(training_dataloader) // 4)\n",
        "\n",
        "print(\"Training Loss List:\", train_loss_list)\n",
        "print(\"Validation Loss List:\", valid_loss_list)\n"
      ],
      "metadata": {
        "id": "yaWwsYUWAAn3"
      },
      "execution_count": null,
      "outputs": []
    },
    {
      "cell_type": "code",
      "source": [
        "import torch\n",
        "from torch.utils.data import TensorDataset, DataLoader, RandomSampler, SequentialSampler\n",
        "from transformers import BertForSequenceClassification, AdamW\n",
        "import random\n",
        "import numpy as np\n",
        "import timeit\n",
        "import datetime\n",
        "\n",
        "# Assuming you have defined training_dataset, training_mask, training_categories,\n",
        "# validation_dataset, validation_mask, and validation_categories in previous cells\n",
        "\n",
        "# Batch size\n",
        "BATCH_SIZE = 16\n",
        "\n",
        "# Creating dataloaders\n",
        "training_data = TensorDataset(training_dataset, training_mask, training_categories)\n",
        "training_dataloader = DataLoader(training_data, sampler=RandomSampler(training_data), batch_size=BATCH_SIZE)\n",
        "\n",
        "validation_data = TensorDataset(validation_dataset, validation_mask, validation_categories)\n",
        "validation_dataloader = DataLoader(validation_data, sampler=SequentialSampler(validation_data), batch_size=BATCH_SIZE)\n",
        "\n",
        "# Model and optimizer\n",
        "option_name = \"bert-base-uncased\"\n",
        "model = BertForSequenceClassification.from_pretrained(option_name,\n",
        "                                                      num_labels=13,\n",
        "                                                      output_attentions=False,\n",
        "                                                      output_hidden_states=False)\n",
        "model.cuda()\n",
        "\n",
        "optimizer = AdamW(model.parameters(),\n",
        "                  lr=3e-5,\n",
        "                  eps=1e-8)\n",
        "\n",
        "# Number of training epochs\n",
        "epochs = 4\n",
        "\n",
        "# Helper functions\n",
        "def format_time(elapsed):\n",
        "    elapsed_rounded = int(round((elapsed)))\n",
        "    return str(datetime.timedelta(seconds=elapsed_rounded))\n",
        "\n",
        "def flat_accuracy(preds, labels):\n",
        "    pred_flat = np.argmax(preds, axis=1).flatten()\n",
        "    labels_flat = labels.flatten()\n",
        "    return np.sum(pred_flat == labels_flat) / len(labels_flat)\n",
        "\n",
        "# Training loop\n",
        "def train_model(model, optimizer, train_loader, valid_loader, num_epochs, eval_every):\n",
        "    seed_val = 42\n",
        "    random.seed(seed_val)\n",
        "    np.random.seed(seed_val)\n",
        "    torch.manual_seed(seed_val)\n",
        "    torch.cuda.manual_seed_all(seed_val)\n",
        "\n",
        "    train_loss_list = []\n",
        "    valid_loss_list = []\n",
        "    running_loss = 0.0\n",
        "    valid_loss = 0.0\n",
        "\n",
        "    device = torch.device(\"cuda\" if torch.cuda.is_available() else \"cpu\")\n",
        "\n",
        "    for each_epoch in range(num_epochs):\n",
        "        print('\\n')\n",
        "        print(\"*************** Epoch {:}/{:} ***************\".format(each_epoch+1, num_epochs))\n",
        "        print(\"Training....\")\n",
        "\n",
        "        start = timeit.default_timer()\n",
        "        running_loss = 0.0\n",
        "        model.train()\n",
        "\n",
        "        for step, (input_desc_ids, input_mask, input_label) in enumerate(train_loader):\n",
        "            if step % eval_every == 0 and step != 0:\n",
        "                stop = timeit.default_timer()\n",
        "                time_elapsed = format_time(stop - start)\n",
        "                print('  Batch {:>5,}  of  {:>5,}.    Elapsed: {:}.'.format(step, len(train_loader), time_elapsed))\n",
        "\n",
        "            input_desc_ids = input_desc_ids.to(device)\n",
        "            input_mask = input_mask.to(device)\n",
        "            input_label = input_label.to(device)\n",
        "            model.zero_grad()\n",
        "\n",
        "            outputs = model(input_desc_ids,\n",
        "                            token_type_ids=None,\n",
        "                            attention_mask=input_mask,\n",
        "                            labels=input_label)\n",
        "\n",
        "            loss = outputs.loss\n",
        "            running_loss += loss.item()\n",
        "            loss.backward()\n",
        "            torch.nn.utils.clip_grad_norm_(model.parameters(), 1.0)\n",
        "            optimizer.step()\n",
        "\n",
        "        average_train_loss = running_loss / len(train_loader)\n",
        "        train_loss_list.append(average_train_loss)\n",
        "\n",
        "        print('\\n')\n",
        "        print(\"  Average training loss: {0:.2f}\".format(average_train_loss))\n",
        "\n",
        "        print(\"\\n\")\n",
        "        print(\"Validating....\")\n",
        "\n",
        "        start = timeit.default_timer()\n",
        "        model.eval()\n",
        "\n",
        "        valid_accuracy = 0.0\n",
        "        steps_eval = 0\n",
        "\n",
        "        for (input_ids, input_masks, input_labels) in valid_loader:\n",
        "            input_ids = input_ids.to(device)\n",
        "            input_masks = input_masks.to(device)\n",
        "            input_labels = input_labels.to(device)\n",
        "\n",
        "            with torch.no_grad():\n",
        "                outputs = model(input_ids,\n",
        "                                token_type_ids=None,\n",
        "                                attention_mask=input_masks)\n",
        "\n",
        "            logits = outputs.logits.detach().cpu().numpy()\n",
        "            label_ids = input_labels.to('cpu').numpy()\n",
        "\n",
        "            temp_accuracy = flat_accuracy(logits, label_ids)\n",
        "            valid_accuracy += temp_accuracy\n",
        "            steps_eval += 1\n",
        "\n",
        "        average_valid_accuracy = valid_accuracy / steps_eval\n",
        "        valid_loss_list.append(average_valid_accuracy)\n",
        "\n",
        "        print(\"  Accuracy: {0:.2f}\".format(average_valid_accuracy))\n",
        "        print(\"  Validation took: {:}\".format(format_time(timeit.default_timer() - start)))\n",
        "\n",
        "    print(\"\\n\")\n",
        "    print(\"Training complete!!!\")\n",
        "\n",
        "    return train_loss_list, valid_loss_list\n",
        "\n",
        "# Train the Model\n",
        "train_loss_list, valid_loss_list = train_model(model=model,\n",
        "                                               optimizer=optimizer,\n",
        "                                               train_loader=training_dataloader,\n",
        "                                               valid_loader=validation_dataloader,\n",
        "                                               num_epochs=epochs,\n",
        "                                               eval_every=len(training_dataloader) // 4)\n",
        "\n",
        "print(\"Training Loss List:\", train_loss_list)\n",
        "print(\"Validation Loss List:\", valid_loss_list)"
      ],
      "metadata": {
        "id": "jTMlXwq2Aaox"
      },
      "execution_count": null,
      "outputs": []
    },
    {
      "cell_type": "code",
      "source": [],
      "metadata": {
        "id": "Uuz3dfKI9c8j"
      },
      "execution_count": null,
      "outputs": []
    },
    {
      "cell_type": "markdown",
      "metadata": {
        "id": "uF0KeTgOhKJF"
      },
      "source": [
        "## **Testing the Perfomance on the Testing Dataframe**\n",
        "\n",
        "The earlier testing dataset is now read and it is formatted int he same way as the training dataset to be fed to the BERT model in order to predict the product categories. In the following code snippets, first the Product Category encoding is done followed by replicating the same steps involving tokenization and input formatting."
      ]
    },
    {
      "cell_type": "markdown",
      "metadata": {
        "id": "t_je1DRjvjha"
      },
      "source": [
        "### **Reading the testing dataframe**"
      ]
    },
    {
      "cell_type": "code",
      "metadata": {
        "id": "WBYLHCfWYUwJ"
      },
      "source": [
        "test_df.sample(10)"
      ],
      "execution_count": null,
      "outputs": []
    },
    {
      "cell_type": "markdown",
      "metadata": {
        "id": "-eF238KHwr24"
      },
      "source": [
        "### **Encoding the Product Categories**\n",
        "\n",
        "The same encoding that was followed for the training set is done in the code snippet below as well."
      ]
    },
    {
      "cell_type": "code",
      "metadata": {
        "id": "IfS6L1WhfWar"
      },
      "source": [
        "test_df['categories']=encoder.fit_transform(test_df['primary_categories'])\n",
        "print(Counter(test_df['categories']))\n",
        "\n",
        "prediction_decoded = encoder.inverse_transform(test_df['categories'])\n",
        "print(Counter(prediction_decoded))"
      ],
      "execution_count": null,
      "outputs": []
    },
    {
      "cell_type": "code",
      "metadata": {
        "id": "PQQ8dPYDYX40"
      },
      "source": [
        "test_description = test_df[\"cleaned_desc\"].values\n",
        "test_labels = test_df[\"categories\"].values"
      ],
      "execution_count": null,
      "outputs": []
    },
    {
      "cell_type": "code",
      "metadata": {
        "id": "4PBzb4rAYw0N"
      },
      "source": [
        "#converting into tokens\n",
        "test_ids = []\n",
        "\n",
        "for sentence in test_description:\n",
        "  encoded_sentence = tokenizer.encode(sentence,\n",
        "                                  add_special_tokens = True)\n",
        "\n",
        "  test_ids.append(encoded_sentence)\n",
        "\n",
        "test_ids = pad_sequences(test_ids,\n",
        "                         maxlen=max_len,\n",
        "                        dtype=\"long\",\n",
        "                        truncating=\"post\",\n",
        "                         padding=\"post\")\n",
        "\n",
        "# creating the attention masks\n",
        "attention_masks = []\n",
        "\n",
        "for id in test_ids:\n",
        "  temp_mask = [int(i>0) for i in id]\n",
        "  attention_masks.append(temp_mask)\n",
        "\n",
        "# converting into tensors\n",
        "prediction_inputs = torch.tensor(test_ids)\n",
        "prediction_masks = torch.tensor(attention_masks)\n",
        "prediction_labels = torch.tensor(test_labels)"
      ],
      "execution_count": null,
      "outputs": []
    },
    {
      "cell_type": "code",
      "metadata": {
        "id": "h4aW-gCPaSg3"
      },
      "source": [
        "#creating the Pytorch Dataloader\n",
        "testing_data = TensorDataset(prediction_inputs,\n",
        "                                prediction_masks,\n",
        "                                prediction_labels)\n",
        "\n",
        "testing_dataloader = DataLoader(testing_data,\n",
        "                                   sampler=SequentialSampler(testing_data),\n",
        "                                   batch_size=BATCH_SIZE)"
      ],
      "execution_count": null,
      "outputs": []
    },
    {
      "cell_type": "markdown",
      "metadata": {
        "id": "o7JvzNiCjbmi"
      },
      "source": [
        "## **Evaluation Function**\n",
        "\n",
        "Our fine tuned model is now applied to the prepared testing dataset to generate predictions on the same and calculate the accuracy by comparing it to the actual labels."
      ]
    },
    {
      "cell_type": "code",
      "metadata": {
        "id": "mJOdhFNUjdj_"
      },
      "source": [
        "def evaluation(model = model,\n",
        "               test_loader = testing_dataloader):\n",
        "\n",
        "  print('Predicting labels for {:,} test descriptions'.format(len(testing_data)))\n",
        "\n",
        "  #initialising the running variables\n",
        "  predictions = []\n",
        "  true_categories = []\n",
        "\n",
        "  #putting the model in avaluation mode\n",
        "  model.eval()\n",
        "\n",
        "  for (test_desc_ids, test_mask, test_label) in test_loader:\n",
        "\n",
        "    # adding the batch variables to the GPU\n",
        "    test_desc_ids = test_desc_ids.to(device)\n",
        "    test_mask = test_mask.to(device)\n",
        "    test_label = test_label.to(device)\n",
        "\n",
        "    with torch.no_grad():\n",
        "      #forward pass\n",
        "      #calculating the logit predictions\n",
        "      outputs = model(test_desc_ids,\n",
        "                      token_type_ids=None,\n",
        "                      attention_mask = test_mask)\n",
        "\n",
        "    logits = outputs[0]\n",
        "\n",
        "    # Move logits and labels to CPU\n",
        "    logits = logits.detach().cpu().numpy()\n",
        "    label_ids = test_label.to('cpu').numpy()\n",
        "\n",
        "    # Store predictions and true labels\n",
        "    predictions.extend(list( np.argmax(logits, axis=1).flatten()))\n",
        "    true_categories.extend(list(label_ids.flatten()))\n",
        "\n",
        "  print(\"Evaluation done!!!\")\n",
        "\n",
        "  return true_categories, predictions\n"
      ],
      "execution_count": null,
      "outputs": []
    },
    {
      "cell_type": "code",
      "metadata": {
        "id": "T29YYBv_wiYk"
      },
      "source": [
        "true_labels, pred_labels = evaluation()"
      ],
      "execution_count": null,
      "outputs": []
    },
    {
      "cell_type": "markdown",
      "metadata": {
        "id": "7wCNOOt_kG5t"
      },
      "source": [
        "## **Calculating the Evaluation Metrics**\n",
        "\n",
        "Classification Report has been printed and a plot of Training and Validation loss was plotted to get an idea about the accuracy of the model and how well our BERT based model will perform on real world data."
      ]
    },
    {
      "cell_type": "code",
      "metadata": {
        "id": "rBKI3tO_j-Ov"
      },
      "source": [
        "print('Classification Report:')\n",
        "print(classification_report(true_labels, pred_labels))\n",
        "\n",
        "plt.figure(figsize = (10,10))\n",
        "cm = confusion_matrix(true_labels, pred_labels)\n",
        "cm = cm / cm.astype(float).sum(axis=1)  # Replace np.float with float\n",
        "ax= plt.subplot()\n",
        "sns.heatmap(cm, annot=True, ax = ax, cmap='Blues')\n",
        "ax.set_title('Confusion Matrix')\n",
        "ax.set_xlabel('Predicted Labels')\n",
        "ax.set_ylabel('True Labels')"
      ],
      "execution_count": null,
      "outputs": []
    },
    {
      "cell_type": "code",
      "metadata": {
        "id": "-QUh74UDOyAZ"
      },
      "source": [
        "# Use plot styling from seaborn.\n",
        "sns.set(style='darkgrid')\n",
        "# Increase the plot size and font size.\n",
        "sns.set(font_scale=1.5)\n",
        "plt.rcParams[\"figure.figsize\"] = (12,6)\n",
        "\n",
        "# Initialize lists to store loss values (if not already done elsewhere)\n",
        "train_loss_list = []  # Initialize an empty list for training losses\n",
        "valid_loss_list = []  # Initialize an empty list for validation losses\n",
        "\n",
        "# (Presumably you have some training loop where you append loss values to these lists)\n",
        "\n",
        "# Plot the learning curve.\n",
        "plt.plot(train_loss_list, label=\"train\")\n",
        "plt.plot(valid_loss_list, label=\"validation\")\n",
        "\n",
        "# Label the plot.\n",
        "plt.title(\"Training loss\")\n",
        "plt.xlabel(\"Epoch\")\n",
        "plt.ylabel(\"Loss\")\n",
        "\n",
        "plt.show()"
      ],
      "execution_count": null,
      "outputs": []
    },
    {
      "cell_type": "markdown",
      "metadata": {
        "id": "JhDtQerCziFS"
      },
      "source": [
        "## **Variants of BERT**\n",
        "\n",
        "Other BERT based pre-trained models have also been explored such as DistilBERT, RoBERTa and XLNet. In the following code snippets, the already pre trained model is trained and then evaluated using the **eval_model()** function. Some of the other evaluation metrics that have been used are f1 score and accuracy score."
      ]
    },
    {
      "cell_type": "code",
      "metadata": {
        "id": "_gzXrSgOEQKv"
      },
      "source": [
        "custom_arguments = {\n",
        "    \"output_dir\": \"outputs/\",\n",
        "    \"cache_dir\": \"cache/\",\n",
        "    \"best_model_dir\": \"outputs/best_model/\",\n",
        "\n",
        "    \"fp16\": False,\n",
        "    \"fp16_opt_level\": \"O1\",\n",
        "    \"max_seq_length\": 128,\n",
        "    \"train_batch_size\": 128,\n",
        "    \"eval_batch_size\": 128,\n",
        "    \"gradient_accumulation_steps\": 1,\n",
        "    \"num_train_epochs\": 1,\n",
        "    \"weight_decay\": 0,\n",
        "    \"learning_rate\": 1e-4,\n",
        "    \"adam_epsilon\": 1e-8,\n",
        "    \"warmup_ratio\": 0.06,\n",
        "    \"warmup_steps\": 0,\n",
        "    \"max_grad_norm\": 1.0,\n",
        "    \"do_lower_case\": False,\n",
        "\n",
        "    \"logging_steps\": 50,\n",
        "    \"evaluate_during_training\": False,\n",
        "    \"evaluate_during_training_steps\": 2000,\n",
        "    \"evaluate_during_training_verbose\": False,\n",
        "    \"use_cached_eval_features\": False,\n",
        "    \"save_eval_checkpoints\": True,\n",
        "    \"no_cache\": False,\n",
        "    \"save_model_every_epoch\": True,\n",
        "    \"tensorboard_dir\": None,\n",
        "\n",
        "    \"overwrite_output_dir\": True,\n",
        "    \"reprocess_input_data\": True,\n",
        "\n",
        "    \"n_gpu\": 1,\n",
        "    \"silent\": False,\n",
        "    \"use_multiprocessing\": True,\n",
        "\n",
        "    \"wandb_project\": None,\n",
        "    \"wandb_kwargs\": {},\n",
        "\n",
        "    \"use_early_stopping\": True,\n",
        "    \"early_stopping_patience\": 3,\n",
        "    \"early_stopping_delta\": 0,\n",
        "    \"early_stopping_metric\": \"eval_loss\",\n",
        "    \"early_stopping_metric_minimize\": True,\n",
        "\n",
        "    \"manual_seed\": None,\n",
        "    \"encoding\": None,\n",
        "    \"config\": {},\n",
        "}"
      ],
      "execution_count": null,
      "outputs": []
    },
    {
      "cell_type": "markdown",
      "metadata": {
        "id": "On9jFT3qdMhT"
      },
      "source": [
        "## **2) Training and Testing on the RoBERTa model, a variant of BERT**"
      ]
    },
    {
      "cell_type": "code",
      "metadata": {
        "id": "SGIrdg6QFNlZ"
      },
      "source": [
        "torch.cuda.empty_cache()"
      ],
      "execution_count": null,
      "outputs": []
    },
    {
      "cell_type": "code",
      "metadata": {
        "id": "VjzQqlmp7rEe"
      },
      "source": [
        "df = pd.read_csv(\"/content/drive/MyDrive/Colab Notebooks/undersampling_balanced_products.csv\")\n",
        "df.head()"
      ],
      "execution_count": null,
      "outputs": []
    },
    {
      "cell_type": "code",
      "metadata": {
        "id": "ieGgccmd-U45"
      },
      "source": [
        "print(df.shape)\n",
        "print(df.columns.values)"
      ],
      "execution_count": null,
      "outputs": []
    },
    {
      "cell_type": "markdown",
      "metadata": {
        "id": "AHJWl8901W3_"
      },
      "source": [
        "## **Dataset Preparation**\n",
        "\n",
        "In data_preparation() function below, the strings in the categories column are encoded to be a numerical value. Further many of the columns which are not necessary are dropped keeping only the **cleaned_desc** and **labels** column (according to the input parameter requirements of the pre-trained RoBERTa model. The dataset is also split into training and testing datasets in this function itself."
      ]
    },
    {
      "cell_type": "code",
      "metadata": {
        "id": "9EoWU5-D79tg"
      },
      "source": [
        "import torchnlp\n",
        "from torchnlp.encoders import LabelEncoder\n",
        "from simpletransformers.model import TransformerModel\n",
        "\n",
        "# number of categories that the products can be divided into has been decided to be 13\n",
        "n_classes = 13\n",
        "\n",
        "def data_preparation(df,\n",
        "                     categories = 'primary_categories', ):\n",
        "\n",
        "  df_temp = df.copy(deep=True)\n",
        "\n",
        "  encoder = LabelEncoder(df[\"primary_categories\"])\n",
        "  temp_list = encoder.batch_encode(df[categories].tolist())\n",
        "  temp_list = temp_list.numpy()\n",
        "  temp_list = [label-1 for label in temp_list]\n",
        "  df_temp['final_categories'] = pd.Series(temp_list)\n",
        "\n",
        "  train_df, test_df = train_test_split(df_temp, test_size=0.15)\n",
        "\n",
        "  return train_df, test_df\n"
      ],
      "execution_count": null,
      "outputs": []
    },
    {
      "cell_type": "code",
      "metadata": {
        "id": "FSRWxOgaGHg3"
      },
      "source": [
        "train_df, test_df = data_preparation(df)"
      ],
      "execution_count": null,
      "outputs": []
    },
    {
      "cell_type": "markdown",
      "metadata": {
        "id": "2PMZ9GeyBMWC"
      },
      "source": [
        "**Dropping the unnecessary columns from the training and testing datasets**"
      ]
    },
    {
      "cell_type": "code",
      "metadata": {
        "id": "Coq6fp3jGxJp"
      },
      "source": [
        "train_df = train_df.drop(['Unnamed: 0', 'product_name', 'brand', 'desc_pol', 'desc_len', 'product_category_tree', 'description', 'primary_categories', 'main_category'],axis=1)\n",
        "test_df = test_df.drop(['Unnamed: 0', 'product_name', 'brand', 'desc_pol', 'desc_len', 'product_category_tree', 'description', 'primary_categories', 'main_category'], axis=1)"
      ],
      "execution_count": null,
      "outputs": []
    },
    {
      "cell_type": "code",
      "metadata": {
        "id": "qP-oSf8FHGew"
      },
      "source": [
        "train_df.reset_index(inplace=True)\n",
        "train_df = train_df.drop(['index'],axis=1)\n",
        "train_df.head()"
      ],
      "execution_count": null,
      "outputs": []
    },
    {
      "cell_type": "code",
      "metadata": {
        "id": "3Kfgt04NHwkX"
      },
      "source": [
        "test_df.reset_index(inplace=True)\n",
        "test_df = test_df.drop(['index'],axis=1)\n",
        "test_df.head()"
      ],
      "execution_count": null,
      "outputs": []
    },
    {
      "cell_type": "markdown",
      "metadata": {
        "id": "AWEpTuFNBR1r"
      },
      "source": [
        "## **Creating a Transformer Model of type \"roberta\"**\n",
        "\n",
        "The following code snippet creates a Transformer Model for training, evaluation and prediction. As mentioned previously, wthe no of labels in which we are classifying our dataset is 13."
      ]
    },
    {
      "cell_type": "code",
      "metadata": {
        "id": "KqsuAf3z4E_9"
      },
      "source": [
        "#creating the Transformer Model\n",
        "roberta_model = TransformerModel('roberta', 'roberta-base', num_labels=n_classes, args = custom_arguments, use_cuda=False)"
      ],
      "execution_count": null,
      "outputs": []
    },
    {
      "cell_type": "markdown",
      "metadata": {
        "id": "gt3YJk0lB-7p"
      },
      "source": [
        "**Calling the train_model() method to train the RoBERTa Transformer Model**"
      ]
    },
    {
      "cell_type": "code",
      "metadata": {
        "id": "V1bZUJsq4iag"
      },
      "source": [
        "\n",
        "\n",
        "# Now, train the model\n",
        "roberta_model.train_model(train_df)"
      ],
      "execution_count": null,
      "outputs": []
    },
    {
      "cell_type": "markdown",
      "metadata": {
        "id": "S3B457J0CKWp"
      },
      "source": [
        "**Evaluation of the RoBERTa Model**\n",
        "\n",
        "Other indicator functions are also passed as a parameter to the eval_model() method. We have also calculated the **f1 score** and the **accuracy score** for our model by passing them as arguments in the eval_model() function with the help of scikit-learn library."
      ]
    },
    {
      "cell_type": "code",
      "source": [
        "import pandas as pd\n",
        "from simpletransformers.classification import ClassificationModel, ClassificationArgs\n",
        "from sklearn.metrics import f1_score, accuracy_score\n",
        "\n",
        "# Function to calculate multiclass F1 score\n",
        "def multiclass_f1_score(y_true, y_pred):\n",
        "    return f1_score(y_true, y_pred, average='weighted')\n",
        "\n",
        "# Assuming your test DataFrame is named `test_df`\n",
        "# Print the DataFrame columns to verify the column names\n",
        "print(\"Columns in test_df:\", test_df.columns)\n",
        "\n",
        "# Print first few rows to inspect the data\n",
        "print(\"First few rows of test_df:\\n\", test_df.head())\n",
        "\n",
        "# Check and convert labels to integer\n",
        "if 'labels' not in test_df.columns:\n",
        "    raise KeyError(\"'labels' column not found in test_df\")\n",
        "\n",
        "label_mapping = {label: idx for idx, label in enumerate(test_df['labels'].unique())}\n",
        "print(\"Label mapping:\", label_mapping)\n",
        "\n",
        "test_df['labels'] = test_df['labels'].map(label_mapping)\n",
        "if test_df['labels'].isnull().any():\n",
        "    raise ValueError(\"Mapping resulted in NaN values. Please check the label_mapping.\")\n",
        "\n",
        "# Ensure DataFrame has correct column names\n",
        "expected_columns = ['text', 'labels']\n",
        "if not all(column in test_df.columns for column in expected_columns):\n",
        "    raise KeyError(f\"Expected columns {expected_columns} not found in test_df\")\n",
        "\n",
        "# Verify labels are single-dimensional and integers\n",
        "assert test_df['labels'].dtype == int, \"Labels are not integers\"\n",
        "assert test_df['labels'].ndim == 1, \"Labels are not single-dimensional\"\n",
        "\n",
        "# Load your model\n",
        "model = ClassificationModel('roberta', 'path/to/your/model', num_labels=len(label_mapping))\n",
        "\n",
        "# Evaluate the model\n",
        "result, model_outputs, wrong_predictions = model.eval_model(test_df, f1=multiclass_f1_score, acc=accuracy_score)\n",
        "\n",
        "print(result)\n",
        "print(model_outputs)\n",
        "print(wrong_predictions)\n"
      ],
      "metadata": {
        "id": "ZapvDcxAG-ko"
      },
      "execution_count": null,
      "outputs": []
    },
    {
      "cell_type": "code",
      "metadata": {
        "id": "pUkzoCv-57WW"
      },
      "source": [
        "from sklearn.metrics import f1_score, accuracy_score\n",
        "\n",
        "def multiclass_f1_score(labels, predictions):\n",
        "      return f1_score(labels, predictions, average='micro')"
      ],
      "execution_count": null,
      "outputs": []
    },
    {
      "cell_type": "code",
      "metadata": {
        "id": "F-MHElBk5lgQ"
      },
      "source": [
        "result, model_outputs, wrong_predictions = roberta_model.eval_model(test_df, f1 = multiclass_f1_score, acc = accuracy_score)"
      ],
      "execution_count": null,
      "outputs": []
    },
    {
      "cell_type": "markdown",
      "metadata": {
        "id": "9JeS7svDDlAE"
      },
      "source": [
        "## **3) Training and Testing on the DistilBERT model, a variant of BERT**"
      ]
    },
    {
      "cell_type": "code",
      "metadata": {
        "id": "lajPJWgPTFj6"
      },
      "source": [
        "distilbert_model = TransformerModel('bert', 'bert-base-uncased', num_labels=n_classes, args = custom_arguments)"
      ],
      "execution_count": null,
      "outputs": []
    },
    {
      "cell_type": "code",
      "metadata": {
        "id": "gqPIisLvTRcQ"
      },
      "source": [
        "train_df, test_df = data_preparation(df)"
      ],
      "execution_count": null,
      "outputs": []
    },
    {
      "cell_type": "markdown",
      "metadata": {
        "id": "WG8RB_-dE2Ou"
      },
      "source": [
        "**Dropping the unnecessary columns from the training and testing datasets**"
      ]
    },
    {
      "cell_type": "code",
      "metadata": {
        "id": "yNplTykRE1Sb"
      },
      "source": [
        "train_df = train_df.drop(['Unnamed: 0', 'product_name', 'brand', 'desc_pol', 'desc_len', 'product_category_tree', 'description', 'primary_categories', 'main_category'],axis=1)\n",
        "test_df = test_df.drop(['Unnamed: 0', 'product_name', 'brand', 'desc_pol', 'desc_len', 'product_category_tree', 'description', 'primary_categories', 'main_category'], axis=1)"
      ],
      "execution_count": null,
      "outputs": []
    },
    {
      "cell_type": "code",
      "metadata": {
        "id": "P9K-2B1qUBq5"
      },
      "source": [
        "train_df.reset_index(inplace=True)\n",
        "train_df = train_df.drop(['index'],axis=1)\n",
        "train_df.head()"
      ],
      "execution_count": null,
      "outputs": []
    },
    {
      "cell_type": "code",
      "metadata": {
        "id": "mG-SgU6cUGzg"
      },
      "source": [
        "test_df.reset_index(inplace=True)\n",
        "test_df = test_df.drop(['index'],axis=1)\n",
        "test_df.head()"
      ],
      "execution_count": null,
      "outputs": []
    },
    {
      "cell_type": "code",
      "metadata": {
        "id": "m7HMPyVvULJd"
      },
      "source": [
        "distilbert_model.train_model(train_df)"
      ],
      "execution_count": null,
      "outputs": []
    },
    {
      "cell_type": "code",
      "metadata": {
        "id": "f8EvDn13URGv"
      },
      "source": [
        "result, model_outputs, wrong_predictions = distilbert_model.eval_model(test_df, f1 = multiclass_f1_score, acc = accuracy_score)\n",
        "print(result)"
      ],
      "execution_count": null,
      "outputs": []
    },
    {
      "cell_type": "markdown",
      "metadata": {
        "id": "buwmc_pmDo5v"
      },
      "source": [
        "## **4) Training and Testing on the XLNet model, a variant of BERT**"
      ]
    },
    {
      "cell_type": "code",
      "metadata": {
        "id": "IaS35yxcUWB-"
      },
      "source": [
        "xlnet_model = TransformerModel('xlnet', 'xlnet-base-cased', num_labels=n_classes)"
      ],
      "execution_count": null,
      "outputs": []
    },
    {
      "cell_type": "code",
      "metadata": {
        "id": "tydwLADKUjNi"
      },
      "source": [
        "train_df, test_df = data_preparation(df)"
      ],
      "execution_count": null,
      "outputs": []
    },
    {
      "cell_type": "code",
      "metadata": {
        "id": "yt3CYCDWFj3T"
      },
      "source": [
        "train_df = train_df.drop(['Unnamed: 0', 'product_name', 'brand', 'desc_pol', 'desc_len', 'product_category_tree', 'description', 'primary_categories', 'main_category'],axis=1)\n",
        "test_df = test_df.drop(['Unnamed: 0', 'product_name', 'brand', 'desc_pol', 'desc_len', 'product_category_tree', 'description', 'primary_categories', 'main_category'], axis=1)"
      ],
      "execution_count": null,
      "outputs": []
    },
    {
      "cell_type": "code",
      "metadata": {
        "id": "VW8dZDGNUj2N"
      },
      "source": [
        "train_df.reset_index(inplace=True)\n",
        "train_df = train_df.drop(['index','dropped_columns'],axis=1)\n",
        "train_df.head()"
      ],
      "execution_count": null,
      "outputs": []
    },
    {
      "cell_type": "code",
      "metadata": {
        "id": "ApO7c62RUl_N"
      },
      "source": [
        "test_df.reset_index(inplace=True)\n",
        "test_df = test_df.drop(['index', 'dropped_columns'],axis=1)\n",
        "test_df.head()"
      ],
      "execution_count": null,
      "outputs": []
    },
    {
      "cell_type": "code",
      "metadata": {
        "id": "5TiO_UZjUmde"
      },
      "source": [
        "xlnet_model.train_model(train_df)"
      ],
      "execution_count": null,
      "outputs": []
    },
    {
      "cell_type": "code",
      "metadata": {
        "id": "sZ6erIzWUpKH"
      },
      "source": [
        "result, model_outputs, wrong_predictions = xlnet_model.eval_model(test_df, f1 = multiclass_f1_score, acc = accuracy_score)\n",
        "print(result)"
      ],
      "execution_count": null,
      "outputs": []
    },
    {
      "cell_type": "markdown",
      "metadata": {
        "id": "-7nTWxITJhMB"
      },
      "source": [
        "## **PART 2) Long-Short Term Memory (LSTM) based Model:**\n",
        "\n",
        "In the second part of the notebook, LSTM based Deep Learning model is used to solve the problem of Multiclass Product Categorization. The same undersampled balanced dataset that was used for training and evaluating Tranformer based models has also been used in this part for ease of comparison of the results and the working of the model. This already cleaned and pre processed dataset consists of only those data points that can be categorized in the previously mentioned 13 primary categories."
      ]
    },
    {
      "cell_type": "code",
      "metadata": {
        "id": "R4Q8G4yipTZf"
      },
      "source": [
        "!pip install torch==1.8.0+cu111 torchvision==0.9.0+cu111 torchaudio==0.8.0 -f https://download.pytorch.org/whl/torch_stable.html"
      ],
      "execution_count": null,
      "outputs": []
    },
    {
      "cell_type": "code",
      "metadata": {
        "id": "s4MM-LqtUtoW"
      },
      "source": [
        "import torch\n",
        "import torch.nn as nn\n",
        "import torch.optim as optim\n",
        "from torchtext.legacy import data"
      ],
      "execution_count": null,
      "outputs": []
    },
    {
      "cell_type": "code",
      "metadata": {
        "id": "8vHrz2_DjCpB"
      },
      "source": [
        "device = torch.device('cuda' if torch.cuda.is_available() else 'cpu')"
      ],
      "execution_count": null,
      "outputs": []
    },
    {
      "cell_type": "code",
      "metadata": {
        "id": "Mdhux1bhX3NG"
      },
      "source": [
        "#seeding the value to make the results reproducable\n",
        "seed = 42\n",
        "torch.manual_seed(seed)\n",
        "torch.backends.cudnn.deterministic = True"
      ],
      "execution_count": null,
      "outputs": []
    },
    {
      "cell_type": "markdown",
      "metadata": {
        "id": "zrJ41ETRKn2m"
      },
      "source": [
        "## **Reading and PreProcessing the Dataset**\n",
        "\n",
        "This dataset os tokenized with the help of **spacy** tokenizer to meet the requirements before passing into the LSTM Model."
      ]
    },
    {
      "cell_type": "code",
      "metadata": {
        "id": "1dNxy95pYAUn"
      },
      "source": [
        "TEXT = data.Field(tokenize='spacy',batch_first=True,include_lengths=True, lower = True)\n",
        "LABEL = data.LabelField(dtype = torch.float,batch_first=True, lower = True)"
      ],
      "execution_count": null,
      "outputs": []
    },
    {
      "cell_type": "code",
      "metadata": {
        "id": "1otzYa9WYH01"
      },
      "source": [
        "df = pd.read_csv(\"/content/drive/MyDrive/Colab Notebooks/undersampling_balanced_products.csv\")\n",
        "df.head()"
      ],
      "execution_count": null,
      "outputs": []
    },
    {
      "cell_type": "code",
      "metadata": {
        "id": "IxMHvFtAYj_k"
      },
      "source": [
        "print(df.shape)"
      ],
      "execution_count": null,
      "outputs": []
    },
    {
      "cell_type": "code",
      "metadata": {
        "id": "HGdRibPJYm71"
      },
      "source": [
        "fields = [(None, None), (None, None), (None, None), (None, None), (None, None), ('primary_categories',LABEL), (None, None), (None, None), (None, None), ('cleaned_desc', TEXT)]"
      ],
      "execution_count": null,
      "outputs": []
    },
    {
      "cell_type": "code",
      "metadata": {
        "id": "nRS-Yf9AZDAd"
      },
      "source": [
        "train_data = data.TabularDataset(path = '/content/drive/MyDrive/Flipkart Product Dataset/undersampling_balanced_products.csv', format = 'csv', fields = fields, skip_header = True)\n",
        "\n",
        "\n",
        "print(vars(train_data.examples[0]))"
      ],
      "execution_count": null,
      "outputs": []
    },
    {
      "cell_type": "code",
      "metadata": {
        "id": "ByKW6WR1ZOdr"
      },
      "source": [
        "#splitting the dataframe into training, validation and test sets\n",
        "# training set + validation set: 80%, test set: 20%\n",
        "\n",
        "train_data, test_data = train_data.split(split_ratio=0.80,)\n",
        "\n",
        "training_data, validation_data = train_data.split(split_ratio=0.85,)"
      ],
      "execution_count": null,
      "outputs": []
    },
    {
      "cell_type": "markdown",
      "metadata": {
        "id": "oC6vN1aUMEyW"
      },
      "source": [
        "## **Preparation of Input and Output Sequences**\n",
        "\n",
        "The vocabulary is built for the product description which is later then converted into integer sequences. In the following code snippet, we have built the vocabulary and initialized the cleaned description with the pretrained embeddings.\n",
        "\n"
      ]
    },
    {
      "cell_type": "code",
      "metadata": {
        "id": "JC5KfAI6Zu8F"
      },
      "source": [
        "TEXT.build_vocab(training_data,min_freq=3,vectors = 'glove.6B.300d')\n",
        "LABEL.build_vocab(training_data)"
      ],
      "execution_count": null,
      "outputs": []
    },
    {
      "cell_type": "markdown",
      "metadata": {
        "id": "EJ9KzT4wMyxP"
      },
      "source": [
        "The data is prepared in the form of batches and BucketIterator is used for the same."
      ]
    },
    {
      "cell_type": "code",
      "metadata": {
        "id": "cO-7C6ngaGaT"
      },
      "source": [
        "BATCH_SIZE = 16\n",
        "\n",
        "#Load an iterator\n",
        "train_iterator, valid_iterator = data.BucketIterator.splits((training_data, validation_data),\n",
        "                                                            batch_size = BATCH_SIZE,\n",
        "                                                            sort_key = lambda x: len(x.cleaned_desc),\n",
        "                                                            sort_within_batch=True,\n",
        "                                                            device = device)"
      ],
      "execution_count": null,
      "outputs": []
    },
    {
      "cell_type": "markdown",
      "metadata": {
        "id": "7qDHm0BcNAWA"
      },
      "source": [
        "## **Defining the Model Architecture**\n",
        "\n",
        "In the following code snippet, we have defined our model architecture to perform the multiclass classification problem."
      ]
    },
    {
      "cell_type": "code",
      "metadata": {
        "id": "9QdUR_V2adbK"
      },
      "source": [
        "import torch.nn as nn\n",
        "\n",
        "class LSTMClassifier(nn.Module):\n",
        "\n",
        "\n",
        "    def __init__ (self, vocab_size, embedding_dim, hidden_dim, output_dim, n_layers, bidirectional, dropout):\n",
        "\n",
        "        super().__init__()\n",
        "        #embedding layer\n",
        "        self.embedding = nn.Embedding(vocab_size, embedding_dim)\n",
        "        #lstm layer\n",
        "        self.lstm = nn.LSTM(embedding_dim,\n",
        "                           hidden_dim,\n",
        "                           num_layers=n_layers,\n",
        "                           bidirectional=bidirectional,\n",
        "                           dropout=dropout,\n",
        "                           batch_first=True)\n",
        "        # dense layer\n",
        "        self.dense = nn.Linear(hidden_dim * 2, output_dim)\n",
        "        # softmax activation function\n",
        "        self.softmax = nn.Softmax()\n",
        "\n",
        "\n",
        "    def forward(self, text, text_lengths):\n",
        "\n",
        "        embedded = self.embedding(text)\n",
        "        #packed sequence\n",
        "        packed_embedded = nn.utils.rnn.pack_padded_sequence(embedded, text_lengths,batch_first=True)\n",
        "        packed_output, (hidden, cell) = self.lstm(packed_embedded)\n",
        "        #concatinating the final forward and backward hidden state\n",
        "        hidden = torch.cat((hidden[-2,:,:], hidden[-1,:,:]), dim = 1)\n",
        "        #hidden = [batch size, hid dim * num directions]\n",
        "        dense_outputs=self.dense(hidden)\n",
        "        #Final activation function\n",
        "        outputs=self.softmax(dense_outputs)\n",
        "\n",
        "        return outputs"
      ],
      "execution_count": null,
      "outputs": []
    },
    {
      "cell_type": "markdown",
      "metadata": {
        "id": "7QaTwN4rOLLA"
      },
      "source": [
        "In the following code snippet, we have defined the hyperparameters and instantiated our LSTM Model."
      ]
    },
    {
      "cell_type": "code",
      "metadata": {
        "id": "TSjpLfcAdzVH"
      },
      "source": [
        "vocab_size = len(TEXT.vocab)\n",
        "embedding_dim = 300\n",
        "num_hidden_nodes = 32\n",
        "num_output_nodes = 13\n",
        "dropout = 0.2\n",
        "bidirectional = True\n",
        "no_layers = 2\n",
        "\n",
        "lstm_model = LSTMClassifier(vocab_size, embedding_dim, num_hidden_nodes,num_output_nodes, no_layers, bidirectional, dropout)"
      ],
      "execution_count": null,
      "outputs": []
    },
    {
      "cell_type": "code",
      "metadata": {
        "id": "yYtTOHgieaCv"
      },
      "source": [
        "import torchtext\n",
        "\n",
        "def count_parameters(model):\n",
        "    return sum(p.numel() for p in model.parameters() if p.requires_grad)\n",
        "\n",
        "print('The model has {} trainable parameters'.format(count_parameters(lstm_model)))\n",
        "\n",
        "#Initialising the word embeddings with the pretrained embedding\n",
        "pretrained_embeddings = TEXT.vocab.vectors\n",
        "lstm_model.embedding.weight.data.copy_(pretrained_embeddings)\n",
        "\n",
        "print(pretrained_embeddings.shape)"
      ],
      "execution_count": null,
      "outputs": []
    },
    {
      "cell_type": "markdown",
      "metadata": {
        "id": "OLkiF38dPWYL"
      },
      "source": [
        "We have defined the optimizer to be Adam Optimizer and the loss function as CrossEntropyLoss"
      ]
    },
    {
      "cell_type": "code",
      "metadata": {
        "id": "hkgf4TQXgQKm"
      },
      "source": [
        "import torch.optim as optim\n",
        "\n",
        "optimizer = optim.Adam(lstm_model.parameters(), lr = 0.001)\n",
        "criterion = nn.CrossEntropyLoss()\n",
        "\n",
        "def accuracy(preds, y):\n",
        "    counts = 0\n",
        "    for i in range(preds.shape[0]):\n",
        "      counts += (torch.max(preds[i], 0)[1] == y[i]).float()\n",
        "\n",
        "    return counts/preds.shape[0]\n",
        "\n",
        "#saving the following to the GPU\n",
        "lstm_model = lstm_model.to(device)\n",
        "criterion = criterion.to(device)"
      ],
      "execution_count": null,
      "outputs": []
    },
    {
      "cell_type": "markdown",
      "metadata": {
        "id": "BtRiZ-lSPpHe"
      },
      "source": [
        "## **Training the LSTM Model**\n",
        "\n",
        "In the following code snippet, the training phase of the model has been activated along with the dropout layers."
      ]
    },
    {
      "cell_type": "code",
      "metadata": {
        "id": "8G2wE8JfiW3P"
      },
      "source": [
        "def train_lstm_model(model = lstm_model,\n",
        "          iterator = train_iterator,\n",
        "          optimizer = optimizer,\n",
        "          criterion = criterion):\n",
        "\n",
        "  # tracking the loss and accuracy for every epoch\n",
        "  epoch_loss = 0\n",
        "  epoch_accuracy = 0\n",
        "\n",
        "  print(\"********* TRAINING STARTED ***************\")\n",
        "\n",
        "  #setting the model in the training phase\n",
        "  model.train()\n",
        "\n",
        "  for batch in iterator:\n",
        "\n",
        "    #resetting the gradients after each iteration\n",
        "    optimizer.zero_grad()\n",
        "\n",
        "    #retrieving the cleaned description and its categories\n",
        "    description, description_length = batch.cleaned_desc\n",
        "    classes = batch.primary_categories\n",
        "\n",
        "    #saving it on the CPU\n",
        "    description = description.to(device)\n",
        "    classes = classes.type(torch.LongTensor).to(device)\n",
        "\n",
        "    predictions = model(description, description_length).squeeze()\n",
        "\n",
        "    loss = criterion(predictions, classes)\n",
        "    acc = accuracy(predictions, classes)\n",
        "\n",
        "    #backpropagating the loss and computing the gradients\n",
        "    loss.backward()\n",
        "    #updating the parameters and taking a step using the computed gradients\n",
        "    optimizer.step()\n",
        "\n",
        "    epoch_loss += loss.item()\n",
        "    epoch_accuracy += acc.item()\n",
        "\n",
        "  print(\"********* TRAINING COMPLETED ***************\")\n",
        "  return epoch_loss / (len(iterator)-1), epoch_accuracy / (len(iterator)-1)"
      ],
      "execution_count": null,
      "outputs": []
    },
    {
      "cell_type": "code",
      "metadata": {
        "id": "f1SagkCxjFE2"
      },
      "source": [
        "train_lstm_model()"
      ],
      "execution_count": null,
      "outputs": []
    },
    {
      "cell_type": "markdown",
      "metadata": {
        "id": "nmGjcts1hYbg"
      },
      "source": [
        "## **Evaluating the best LSTM Model**\n",
        "\n",
        "In the following code snippet, similar process as that of training the LSTM model is followed for evaluation. This evaluation is then done in the next code snippets after the model is trained."
      ]
    },
    {
      "cell_type": "code",
      "metadata": {
        "id": "KirEhvjfRL-d"
      },
      "source": [
        "def evaluate_lstm_model(model = lstm_model,\n",
        "             iterator = valid_iterator,\n",
        "             criterion = criterion):\n",
        "\n",
        "  epoch_loss = 0\n",
        "  epoch_accuracy = 0\n",
        "\n",
        "  model.eval()\n",
        "\n",
        "  with torch.no_grad():\n",
        "\n",
        "    for batch in iterator:\n",
        "\n",
        "      description, description_lengths = batch.cleaned_desc\n",
        "      classes = batch.primary_categories\n",
        "\n",
        "      description = description.to(device)\n",
        "      classes = classes.type(torch.LongTensor).to(device)\n",
        "\n",
        "      predictions = model(description, description_lengths).squeeze()\n",
        "\n",
        "      loss = criterion(predictions, classes)\n",
        "      acc = accuracy(predictions, classes)\n",
        "\n",
        "      epoch_loss += loss.item()\n",
        "      epoch_accuracy += acc.item()\n",
        "\n",
        "    return epoch_loss / (len(iterator)-1), epoch_accuracy / (len(iterator)-1)\n"
      ],
      "execution_count": null,
      "outputs": []
    },
    {
      "cell_type": "code",
      "metadata": {
        "id": "FhwnERAMhCel"
      },
      "source": [
        "no_epochs = 4\n",
        "best_valid_loss = float('inf')\n",
        "\n",
        "for epoch in range(no_epochs):\n",
        "\n",
        "    #training the model\n",
        "    train_loss, train_acc = train(model, train_iterator, optimizer, criterion)\n",
        "\n",
        "    #evaluating the model\n",
        "    valid_loss, valid_acc = evaluate(model, valid_iterator, criterion)\n",
        "\n",
        "    #calculating the validation loss for the best model\n",
        "    best_valid_loss = min(valid_loss, best_valid_loss)\n",
        "\n",
        "    print('\\tTrain Loss: {train_loss:.3f} | Train Acc: {train_acc*100:.2f}%')\n",
        "    print('\\t Val. Loss: {valid_loss:.3f} |  Val. Acc: {valid_acc*100:.2f}%')"
      ],
      "execution_count": null,
      "outputs": []
    },
    {
      "cell_type": "code",
      "source": [],
      "metadata": {
        "id": "Vr1oDKr1uImI"
      },
      "execution_count": null,
      "outputs": []
    }
  ]
}